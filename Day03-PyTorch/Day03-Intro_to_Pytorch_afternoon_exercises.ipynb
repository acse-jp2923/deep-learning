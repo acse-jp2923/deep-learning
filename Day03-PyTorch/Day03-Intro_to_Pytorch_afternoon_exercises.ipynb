{
 "cells": [
  {
   "cell_type": "markdown",
   "metadata": {
    "id": "0oHbTEGZ_rL0"
   },
   "source": [
    "<p align=\"center\">\n",
    "    <img src=\"https://drive.google.com/uc?id=1DvKhAzLtk-Hilu7Le73WAOz2EBR5d41G\" width=\"400\"/>\n",
    "</p>\n",
    "\n",
    "---\n",
    "\n",
    "<p align=\"center\">\n",
    "<img src=\"https://pytorch.org/assets/images/pytorch-logo.png\" alt=\"drawing\" width=\"100\"/>\n",
    "</p>\n",
    "\n",
    "\n",
    "\n",
    "<h1 style=\"text-align: center;\"> Introduction to Pytorch for Deep Learning\n",
    "  – Exercises</h1>\n",
    "\n",
    "\n",
    "#### **Afternoon contents/agenda**\n",
    "\n",
    "1. Understanding the basics:\n",
    "- [But what is a convolution?](https://www.youtube.com/watch?v=KuXjwB4LzSA&ab_channel=3Blue1Brown)\n",
    "\n",
    "- [But what is a neural network?](https://www.youtube.com/watch?v=aircAruvnKk&t=1s&ab_channel=3Blue1Brown)\n",
    "\n",
    "- [What is backpropagation really doing?](https://www.youtube.com/watch?v=Ilg3gGewQ5U&t=2s&ab_channel=3Blue1Brown)\n",
    "\n",
    "2. In this exercise we will work with a chest x-ray dataset from [MedMnist](https://github.com/MedMNIST/MedMNIST) to tackle a reconstruction problem. Often, bio-engineering datasets have sparse or missing information which are difficult to to avoid due to poor design unexpected failures or restricitions in acquisition times. Interpolation is a common method to pre-process the data to simulate missing data, but fails when the amount of information is large. Here we will use a neural network to predict missing values by learning the distribution of the dataset as opposed to localised operations."
   ]
  },
  {
   "cell_type": "markdown",
   "metadata": {
    "id": "20Pb9we5_rL1"
   },
   "source": [
    "### 2.0 Some imports and utils"
   ]
  },
  {
   "cell_type": "code",
   "execution_count": 1,
   "metadata": {
    "colab": {
     "base_uri": "https://localhost:8080/"
    },
    "id": "EAsd9PdiApgK",
    "outputId": "281906f0-d534-45a9-c46f-b53e2c256724"
   },
   "outputs": [],
   "source": [
    "# try:\n",
    "#   from google.colab import drive\n",
    "#   drive.mount('/content/drive')\n",
    "# except:\n",
    "#   pass"
   ]
  },
  {
   "cell_type": "code",
   "execution_count": 2,
   "metadata": {
    "colab": {
     "base_uri": "https://localhost:8080/"
    },
    "id": "UXZ7QY4L_rL1",
    "outputId": "e031460b-c4ad-49d2-f377-76b341ad9b83"
   },
   "outputs": [
    {
     "name": "stdout",
     "output_type": "stream",
     "text": [
      "Cuda installed! Running on GPU 0 NVIDIA GeForce GTX 1080!\n"
     ]
    }
   ],
   "source": [
    "# !pip install torchsummary progressbar2 livelossplot monai -q\n",
    "\n",
    "import torch\n",
    "import torch.nn as nn\n",
    "import numpy as np\n",
    "import random\n",
    "from torch.utils.data import Dataset\n",
    "from PIL import Image\n",
    "# from torchsummary import summary\n",
    "from torchvision.utils import make_grid\n",
    "import matplotlib.pyplot as plt\n",
    "# from livelossplot import PlotLosses\n",
    "import torchvision.transforms as transforms\n",
    "\n",
    "# def set_seed(seed):\n",
    "#     \"\"\"\n",
    "#     Use this to set ALL the random seeds to a fixed value and take out any randomness from cuda kernels\n",
    "#     \"\"\"\n",
    "#     random.seed(seed)\n",
    "#     np.random.seed(seed)\n",
    "#     torch.manual_seed(seed)\n",
    "#     torch.cuda.manual_seed_all(seed)\n",
    "\n",
    "#     torch.backends.cudnn.benchmark = True  ##uses the inbuilt cudnn auto-tuner to find the fastest convolution algorithms. -\n",
    "#     torch.backends.cudnn.enabled   = True\n",
    "\n",
    "#     return True\n",
    "\n",
    "\n",
    "def set_device(device=\"cpu\", idx=0):\n",
    "    if device != \"cpu\":\n",
    "        if torch.cuda.device_count() > idx and torch.cuda.is_available():\n",
    "            print(\"Cuda installed! Running on GPU {} {}!\".format(idx, torch.cuda.get_device_name(idx)))\n",
    "            device=\"cuda:{}\".format(idx)\n",
    "        elif torch.cuda.device_count() > 0 and torch.cuda.is_available():\n",
    "            print(\"Cuda installed but only {} GPU(s) available! Running on GPU 0 {}!\".format(torch.cuda.device_count(), torch.cuda.get_device_name()))\n",
    "            device=\"cuda:0\"\n",
    "        else:\n",
    "            device=\"cpu\"\n",
    "            print(\"No GPU available! Running on CPU\")\n",
    "    return device\n",
    "\n",
    "device = set_device(\"cuda\")\n",
    "\n"
   ]
  },
  {
   "cell_type": "markdown",
   "metadata": {
    "id": "bJEiTopU_rL2"
   },
   "source": [
    "### 2.1  Download and inspect the data using the commands below\n"
   ]
  },
  {
   "cell_type": "code",
   "execution_count": 3,
   "metadata": {
    "colab": {
     "base_uri": "https://localhost:8080/"
    },
    "id": "J-VOPyWQ_rL2",
    "outputId": "09e496c0-dc5a-45ad-d24b-e819702ad26f",
    "scrolled": true
   },
   "outputs": [],
   "source": [
    "# !wget https://zenodo.org/record/6496656/files/chestmnist.npz"
   ]
  },
  {
   "cell_type": "code",
   "execution_count": 4,
   "metadata": {
    "colab": {
     "base_uri": "https://localhost:8080/"
    },
    "id": "B7MTP18-_rL2",
    "outputId": "6c31de77-9fa5-47d7-c2e2-7c2ec9294484"
   },
   "outputs": [
    {
     "name": "stdout",
     "output_type": "stream",
     "text": [
      "['train_images', 'val_images', 'test_images', 'train_labels', 'val_labels', 'test_labels']\n"
     ]
    }
   ],
   "source": [
    "ex_data = np.load(\"./chestmnist.npz\")\n",
    "print(ex_data.files)"
   ]
  },
  {
   "cell_type": "markdown",
   "metadata": {
    "id": "gCdhFXC4_rL2"
   },
   "source": [
    "### 2.3 Create a custom dataset\n",
    "\n",
    "* Create your own ``Dataset`` derived class that takes as initialisation arguments:\n",
    "  - ``data_path``, the path to the data\n",
    "  - a probability for a random mask ``p``,\n",
    "  - a ``transform`` to be applied to the data,\n",
    "  - and a ``split`` argument to dictate what part of the data to load (train, validation, test)\n",
    "\n",
    "* Load the data into an argument ``self.data`` inside the initialisation\n",
    "\n",
    "* Create a method for your class ``_get_mask``, that generates a binary mask of the size of the sample to randomly erase some data points based on the probability ``p``\n",
    "\n",
    "* Customise the  ``__getitem__`` class so that it loads a sample from ``self.data`` and returns a masked version of the sample, and the original sample (the former will be input to our network and the later the target)\n",
    "\n",
    "* Don't forget to set the built-in method ``__len__`` to the correct size\n",
    "\n",
    "* Instantiate the class for a training set and a validation set. Plot one input and output for each of these sets"
   ]
  },
  {
   "cell_type": "code",
   "execution_count": 5,
   "metadata": {
    "colab": {
     "base_uri": "https://localhost:8080/"
    },
    "id": "yQaH3SGs6TlM",
    "outputId": "ba5ba498-963c-47ce-8f21-a194db332593"
   },
   "outputs": [
    {
     "name": "stdout",
     "output_type": "stream",
     "text": [
      "['train_images', 'val_images', 'test_images', 'train_labels', 'val_labels', 'test_labels']\n"
     ]
    }
   ],
   "source": [
    "print(ex_data.files)"
   ]
  },
  {
   "cell_type": "code",
   "execution_count": 6,
   "metadata": {
    "colab": {
     "base_uri": "https://localhost:8080/"
    },
    "id": "ftuXB-Le6VTM",
    "outputId": "fa96c699-2a89-47ee-81e9-1118658785cc",
    "scrolled": true
   },
   "outputs": [
    {
     "data": {
      "text/plain": [
       "array([[0, 0, 0, ..., 0, 0, 0],\n",
       "       [0, 0, 0, ..., 0, 0, 0],\n",
       "       [0, 0, 0, ..., 0, 0, 0],\n",
       "       ...,\n",
       "       [0, 0, 0, ..., 0, 1, 0],\n",
       "       [0, 0, 0, ..., 0, 0, 0],\n",
       "       [0, 0, 0, ..., 0, 0, 0]], dtype=uint8)"
      ]
     },
     "execution_count": 6,
     "metadata": {},
     "output_type": "execute_result"
    }
   ],
   "source": [
    "ex_data[\"train_labels\"]"
   ]
  },
  {
   "cell_type": "code",
   "execution_count": 7,
   "metadata": {},
   "outputs": [
    {
     "data": {
      "text/plain": [
       "(78468, 14)"
      ]
     },
     "execution_count": 7,
     "metadata": {},
     "output_type": "execute_result"
    }
   ],
   "source": [
    "ex_data[\"train_labels\"].shape\n"
   ]
  },
  {
   "cell_type": "code",
   "execution_count": 8,
   "metadata": {
    "colab": {
     "base_uri": "https://localhost:8080/"
    },
    "id": "QaMSI5ZS_I1W",
    "outputId": "e0958974-0f72-45cc-9eac-9bd53e746bb8",
    "scrolled": true
   },
   "outputs": [
    {
     "data": {
      "text/plain": [
       "array([[ True,  True,  True],\n",
       "       [ True, False, False],\n",
       "       [False,  True,  True]])"
      ]
     },
     "execution_count": 8,
     "metadata": {},
     "output_type": "execute_result"
    }
   ],
   "source": [
    "\n",
    "np.random.uniform(0, 1, size=(3,3)) > 0.5"
   ]
  },
  {
   "cell_type": "code",
   "execution_count": 9,
   "metadata": {
    "id": "BN4muwLu_rL3"
   },
   "outputs": [],
   "source": [
    "class ChestMNIST(Dataset):\n",
    "    def __init__(self, data_path, split=\"train\", p=0.5, transform=None):\n",
    "        self.data_path = data_path\n",
    "        self.split = split\n",
    "        self.p = p\n",
    "        self.transform = transform\n",
    "        self.data = np.load(self.data_path)\n",
    "\n",
    "    def _get_mask(self, img_shape):\n",
    "        # Create a method for your class _get_mask, that generates a binary mask\n",
    "        # of the size of the sample to randomly erase some data points based on\n",
    "        # the probability p\n",
    "\n",
    "        mask = np.random.uniform(0, 1, size=(img_shape)) > self.p\n",
    "        return mask\n",
    "\n",
    "    def __getitem__(self, idx):\n",
    "        # the data and the label (for a specific split)\n",
    "        return self.data[self.split + \"_images\"][idx], np.load(self.data_path)[self.split + \"_labels\"][idx]\n",
    "\n",
    "    def __len__(self):\n",
    "        return self.data[self.split + \"_labels\"].shape[0]\n"
   ]
  },
  {
   "cell_type": "code",
   "execution_count": 10,
   "metadata": {
    "colab": {
     "base_uri": "https://localhost:8080/",
     "height": 448
    },
    "id": "wHzIUiIIGfMv",
    "outputId": "f55472c0-e705-4c78-f9cc-226e63fac967",
    "scrolled": false
   },
   "outputs": [
    {
     "data": {
      "text/plain": [
       "<matplotlib.image.AxesImage at 0x7f723b09af70>"
      ]
     },
     "execution_count": 10,
     "metadata": {},
     "output_type": "execute_result"
    },
    {
     "data": {
      "image/png": "[encoded data removed]",
      "text/plain": [
       "<Figure size 432x288 with 1 Axes>"
      ]
     },
     "metadata": {
      "needs_background": "light"
     },
     "output_type": "display_data"
    }
   ],
   "source": [
    "plt.imshow(ChestMNIST(data_path=\"./chestmnist.npz\")._get_mask((13,13)))"
   ]
  },
  {
   "cell_type": "code",
   "execution_count": 11,
   "metadata": {
    "id": "Z1TfPg8K_rL3"
   },
   "outputs": [],
   "source": [
    "## Instantiate datasets\n",
    "# our_data = ChestMNIST(\n",
    "#     data_path=\"./chestmnist.npz\",\n",
    "#     split=\"train\",\n",
    "#     p=0.5,\n",
    "#     transform=None\n",
    "# )\n",
    "\n",
    "## Plots\n",
    "# print(our_data.__len__())\n",
    "# our_data.__getitem__(0)"
   ]
  },
  {
   "cell_type": "markdown",
   "metadata": {
    "id": "0Ew068BZ_rL3"
   },
   "source": [
    "### 2.4 Modify our ``simpleFFN`` model"
   ]
  },
  {
   "cell_type": "markdown",
   "metadata": {
    "id": "mHSUsJap_rL3"
   },
   "source": [
    "* Add two more hidden layers to the model\n",
    "\n",
    "* Change the size of the output to match the size of the input\n",
    "\n",
    "* Change the activation of the model to [``Mish``](https://arxiv.org/abs/1908.08681)\n",
    "\n",
    "* Change the activation of last layer, what should it be?\n",
    "\n",
    "* Instantiate the model and print a summary\n"
   ]
  },
  {
   "cell_type": "code",
   "execution_count": 12,
   "metadata": {
    "id": "_LkxXZQc_rL3"
   },
   "outputs": [],
   "source": [
    "# Modify model\n",
    "class simpleFFN(nn.Module):\n",
    "    def __init__(self, input_size, hidden_size_1=100, hidden_size_2=50, output_size=10):\n",
    "        super(simpleFFN, self).__init__()\n",
    "        self.hidden_1 = nn.Linear(input_size, hidden_size_1, bias=False)\n",
    "        self.hidden_2 = nn.Linear(hidden_size_1, hidden_size_2, bias=False)\n",
    "        self.output = nn.Linear(hidden_size_2, 10, bias=False)\n",
    "        self.final_activation = nn.Sigmoid()\n",
    "        self.activation = nn.Mish()\n",
    "\n",
    "    def forward(self, X):\n",
    "        z1 = self.hidden_1(X.flatten(start_dim=1))\n",
    "        a1 = self.activation(z1)\n",
    "        z2 = self.hidden_2(a1)\n",
    "        a2 = self.activation(z2)\n",
    "        z3 = self.output(a2)\n",
    "        a3 = self.final_activation(z3)\n",
    "        return a3"
   ]
  },
  {
   "cell_type": "code",
   "execution_count": 13,
   "metadata": {
    "id": "EofNzK3Z_rL4"
   },
   "outputs": [],
   "source": [
    "# Instantiate and print summary\n",
    "model = simpleFFN(input_size=(28*28))"
   ]
  },
  {
   "cell_type": "code",
   "execution_count": 14,
   "metadata": {
    "colab": {
     "base_uri": "https://localhost:8080/"
    },
    "id": "MbhSounjAHmG",
    "outputId": "e8b4bc68-894c-467b-b26b-6d21f39d37d9",
    "scrolled": true
   },
   "outputs": [
    {
     "data": {
      "text/plain": [
       "simpleFFN(\n",
       "  (hidden_1): Linear(in_features=784, out_features=100, bias=False)\n",
       "  (hidden_2): Linear(in_features=100, out_features=50, bias=False)\n",
       "  (output): Linear(in_features=50, out_features=10, bias=False)\n",
       "  (final_activation): Sigmoid()\n",
       "  (activation): Mish()\n",
       ")"
      ]
     },
     "execution_count": 14,
     "metadata": {},
     "output_type": "execute_result"
    }
   ],
   "source": [
    "model"
   ]
  },
  {
   "cell_type": "markdown",
   "metadata": {
    "id": "Inc4U5fG_rL4"
   },
   "source": [
    "### 2.5 Prepare parameters and hyperparameters for training\n",
    "\n",
    "* Set your hyperparameters:\n",
    "    - seed: 42\n",
    "    - mask probability: 0.6 (this is a heavy damaged imputation problem! We are only keeping 60% of the information)\n",
    "    - learning rate: 1e-2\n",
    "    - weight decay = 1e-6 (applied in optimiser)\n",
    "    - batch size: 128\n",
    "    - number of epochs: 30\n",
    "\n",
    "\n",
    "* Instantiate ``simpleFFN`` as our model with hidden sizes: 150, 50, 50, 150\n",
    "\n",
    "* Instantiate ``Adam`` as the optimiser\n",
    "\n",
    "* Instantiate ``MSELoss`` as a criterion\n",
    "\n",
    "* Collect any list of transformations you think are appropriate for this problem\n",
    "\n",
    "* Instantiate the training and validation dataset and create the dataloader for each\n",
    "\n",
    "* Visualise an input and target batch using ``make_grid``"
   ]
  },
  {
   "cell_type": "code",
   "execution_count": 15,
   "metadata": {
    "id": "lpavKdj9KaAa"
   },
   "outputs": [],
   "source": [
    "from torchvision import datasets"
   ]
  },
  {
   "cell_type": "code",
   "execution_count": 16,
   "metadata": {
    "id": "h-p2-TWEJCpk"
   },
   "outputs": [],
   "source": [
    "# Hyperparameters\n",
    "# set_seed(42)\n",
    "mask_probability = 0.6 # (this is a heavy damaged imputation problem! We are only keeping 60% of the information)\n",
    "learning_rate = 1e-2\n",
    "weight_decay = 1e-6 # (applied in optimiser)\n",
    "batch_size = 1\n",
    "number_of_epochs = 30\n",
    "\n",
    "# Training set up: model, optimiser, criterion\n",
    "model = simpleFFN(input_size=(28*28))\n",
    "optimizer = torch.optim.Adam(model.parameters())\n",
    "loss_func = nn.CrossEntropyLoss()\n",
    "\n",
    "from torchvision import transforms\n",
    "# transform = Compose([ToTensor(),]) # Compose a list of transformations\n",
    "\n",
    "\n",
    "# Transforms, Dataset and dataloader\n",
    "\n",
    "transforms = transforms.Compose([\n",
    "    transforms.ToTensor(),\n",
    "])\n"
   ]
  },
  {
   "cell_type": "code",
   "execution_count": 17,
   "metadata": {},
   "outputs": [],
   "source": [
    "batch_size = 3"
   ]
  },
  {
   "cell_type": "code",
   "execution_count": 42,
   "metadata": {
    "id": "2pewVAL9_rL4"
   },
   "outputs": [],
   "source": [
    "\n",
    "train_dataset = ChestMNIST(\n",
    "    data_path=\"./chestmnist.npz\",\n",
    "    split=\"train\",\n",
    "    p=mask_probability,\n",
    "    transform=transforms\n",
    ")\n",
    "\n",
    "# val_dataset = ChestMNIST(\n",
    "#     data_path=\"./chestmnist.npz\",\n",
    "#     split=\"val\",\n",
    "#     p=mask_probability,\n",
    "#     transform=transforms\n",
    "# )\n",
    "\n",
    "# test_dataset = ChestMNIST(\n",
    "#     data_path=\"./chestmnist.npz\",\n",
    "#     split=\"test\",\n",
    "#     p=mask_probability,\n",
    "#     transform=transforms\n",
    "# )\n",
    "\n",
    "train_loader = torch.utils.data.DataLoader(\n",
    "    train_dataset,\n",
    "    batch_size=batch_size,\n",
    "    shuffle=True,\n",
    "    pin_memory=True)\n",
    "\n",
    "# val_loader = torch.utils.data.DataLoader(\n",
    "#     val_dataset,\n",
    "#     batch_size=batch_size,\n",
    "#     shuffle=True,\n",
    "#     pin_memory=True)\n",
    "\n",
    "# test_loader = torch.utils.data.DataLoader(\n",
    "#     test_dataset,\n",
    "#     batch_size=batch_size,\n",
    "#     shuffle=True,\n",
    "#     pin_memory=True)\n",
    "\n",
    "\n"
   ]
  },
  {
   "cell_type": "code",
   "execution_count": 43,
   "metadata": {
    "id": "AdAu4YFSCTzC"
   },
   "outputs": [],
   "source": [
    "# Visualise a batch sample\n",
    "train_iterator = iter(train_loader)\n",
    "train_batch = next(train_iterator)\n",
    "# print(train_batch)"
   ]
  },
  {
   "cell_type": "code",
   "execution_count": null,
   "metadata": {
    "id": "o1VzFokOOsUd"
   },
   "outputs": [],
   "source": []
  },
  {
   "cell_type": "code",
   "execution_count": 21,
   "metadata": {
    "id": "uJ3DlidKMGva"
   },
   "outputs": [],
   "source": [
    "\n",
    "dimensions = [784, 200, 50, 14]\n",
    "\n",
    "class simpleFFN(nn.Module):\n",
    "    def __init__(self, dimensions):\n",
    "        super(simpleFFN, self).__init__()\n",
    "        # fully connected\n",
    "        self.fc1 = nn.Linear(dimensions[0], dimensions[1], bias=False)\n",
    "        self.fc2 = nn.Linear(dimensions[1], dimensions[2], bias=False)\n",
    "        self.fc3 = nn.Linear(dimensions[2], dimensions[-1], bias=False)\n",
    "        # activation functions/special\n",
    "        self.sigmoid = nn.Sigmoid()\n",
    "        self.tanh = nn.Tanh()\n",
    "        self.relu = nn.ReLU()\n",
    "        self.softmax = nn.Softmax()\n",
    "        self.dropout = nn.Dropout(0.5)\n",
    "\n",
    "    def forward(self, X):\n",
    "        # out = self.fc1(X.float())\n",
    "        out = self.fc1(X.reshape(-1, 28*28).float())\n",
    "        out = self.tanh(out)\n",
    "        out = self.fc2(out)\n",
    "        out = self.tanh(out)\n",
    "        out = self.fc3(out)\n",
    "        return out\n",
    "\n",
    "model = simpleFFN(dimensions)\n",
    "# model = model.to(device)\n"
   ]
  },
  {
   "cell_type": "code",
   "execution_count": null,
   "metadata": {
    "id": "8VcBP-8vpEv2"
   },
   "outputs": [],
   "source": [
    "optimizer = torch.optim.Adam(model.parameters())   # instantiate the optimizer\n",
    "#loss_func = nn.CrossEntropyLoss()\n",
    "loss_func = nn.MSELoss()"
   ]
  },
  {
   "cell_type": "markdown",
   "metadata": {
    "id": "ufNOcBVs_rL4"
   },
   "source": [
    "### 2.6 Modify training and validation functions\n",
    "\n",
    "* Make the necessary modifications to the ``train`` and ``valid`` functions from the lecture to adapt to our reconstruction problem\n",
    "\n",
    "* Does prediction play a role in this problem?\n",
    "\n",
    "* Is accuracy a suitable metric?\n"
   ]
  },
  {
   "cell_type": "code",
   "execution_count": 45,
   "metadata": {},
   "outputs": [],
   "source": [
    "from sklearn.metrics import accuracy_score"
   ]
  },
  {
   "cell_type": "code",
   "execution_count": null,
   "metadata": {},
   "outputs": [],
   "source": []
  },
  {
   "cell_type": "code",
   "execution_count": 46,
   "metadata": {
    "id": "MTxUm11yQcrs"
   },
   "outputs": [],
   "source": [
    "# Modify functions\n",
    "def train(model, optimizer, criterion, data_loader):\n",
    "    model.train()\n",
    "    model = model.to(device)\n",
    "    print(\"training mode\")\n",
    "    train_loss, train_accuracy = 0, 0\n",
    "    print(\"entering loop\")\n",
    "    for i, (input, target) in enumerate(data_loader):\n",
    "        input, target = input.to(device), target.to(device)\n",
    "        optimizer.zero_grad()\n",
    "        output = model(input)\n",
    "        loss = criterion(output, target.argmax(axis=1))\n",
    "        loss.backward()\n",
    "        train_loss += loss*input.size(0)\n",
    "        pred = output.softmax(dim=1).max(dim=1)[1]\n",
    "        \n",
    "#         print(\"output\",output.argmax(axis=1))\n",
    "        train_accuracy += accuracy_score(output.argmax(axis=1).detach().cpu().numpy(), \n",
    "                                         pred.detach().cpu().numpy())*input.size(0)\n",
    "        optimizer.step()\n",
    "        if i % 1000 == 0:\n",
    "            print(i)\n",
    "    train_loss = train_loss / len(data_loader.dataset)\n",
    "    train_accuracy = train_accuracy/len(data_loader.dataset)\n",
    "    return train_loss, train_accuracy\n"
   ]
  },
  {
   "cell_type": "code",
   "execution_count": 48,
   "metadata": {
    "id": "1VZ0-VjbfltI"
   },
   "outputs": [],
   "source": [
    "\n"
   ]
  },
  {
   "cell_type": "code",
   "execution_count": 49,
   "metadata": {
    "id": "JxSrHUMwQeaW",
    "scrolled": true
   },
   "outputs": [
    {
     "ename": "RuntimeError",
     "evalue": "Expected object of scalar type Long but got scalar type Byte for argument #2 'target' in call to _thnn_nll_loss_forward",
     "output_type": "error",
     "traceback": [
      "\u001b[0;31m---------------------------------------------------------------------------\u001b[0m",
      "\u001b[0;31mRuntimeError\u001b[0m                              Traceback (most recent call last)",
      "\u001b[0;32m<ipython-input-49-2f1e3ee275c0>\u001b[0m in \u001b[0;36m<module>\u001b[0;34m\u001b[0m\n\u001b[0;32m----> 1\u001b[0;31m train(model=model,\n\u001b[0m\u001b[1;32m      2\u001b[0m       \u001b[0moptimizer\u001b[0m\u001b[0;34m=\u001b[0m\u001b[0moptimizer\u001b[0m\u001b[0;34m,\u001b[0m\u001b[0;34m\u001b[0m\u001b[0;34m\u001b[0m\u001b[0m\n\u001b[1;32m      3\u001b[0m       \u001b[0mcriterion\u001b[0m\u001b[0;34m=\u001b[0m\u001b[0mloss_func\u001b[0m\u001b[0;34m,\u001b[0m\u001b[0;34m\u001b[0m\u001b[0;34m\u001b[0m\u001b[0m\n\u001b[1;32m      4\u001b[0m       data_loader=train_loader)\n",
      "\u001b[0;32m<ipython-input-48-b52f0f310bf8>\u001b[0m in \u001b[0;36mtrain\u001b[0;34m(model, optimizer, criterion, data_loader)\u001b[0m\n\u001b[1;32m      6\u001b[0m         \u001b[0moptimizer\u001b[0m\u001b[0;34m.\u001b[0m\u001b[0mzero_grad\u001b[0m\u001b[0;34m(\u001b[0m\u001b[0;34m)\u001b[0m\u001b[0;34m\u001b[0m\u001b[0;34m\u001b[0m\u001b[0m\n\u001b[1;32m      7\u001b[0m         \u001b[0moutput\u001b[0m \u001b[0;34m=\u001b[0m \u001b[0mmodel\u001b[0m\u001b[0;34m(\u001b[0m\u001b[0minput\u001b[0m\u001b[0;34m)\u001b[0m\u001b[0;34m\u001b[0m\u001b[0;34m\u001b[0m\u001b[0m\n\u001b[0;32m----> 8\u001b[0;31m         \u001b[0mloss\u001b[0m \u001b[0;34m=\u001b[0m \u001b[0mcriterion\u001b[0m\u001b[0;34m(\u001b[0m\u001b[0moutput\u001b[0m\u001b[0;34m,\u001b[0m \u001b[0mtarget\u001b[0m\u001b[0;34m)\u001b[0m\u001b[0;34m\u001b[0m\u001b[0;34m\u001b[0m\u001b[0m\n\u001b[0m\u001b[1;32m      9\u001b[0m         \u001b[0mloss\u001b[0m\u001b[0;34m.\u001b[0m\u001b[0mbackward\u001b[0m\u001b[0;34m(\u001b[0m\u001b[0;34m)\u001b[0m\u001b[0;34m\u001b[0m\u001b[0;34m\u001b[0m\u001b[0m\n\u001b[1;32m     10\u001b[0m         \u001b[0mtrain_loss\u001b[0m \u001b[0;34m+=\u001b[0m \u001b[0mloss\u001b[0m\u001b[0;34m*\u001b[0m\u001b[0minput\u001b[0m\u001b[0;34m.\u001b[0m\u001b[0msize\u001b[0m\u001b[0;34m(\u001b[0m\u001b[0;36m0\u001b[0m\u001b[0;34m)\u001b[0m\u001b[0;34m\u001b[0m\u001b[0;34m\u001b[0m\u001b[0m\n",
      "\u001b[0;32m~/anaconda3/envs/pm4ai/lib/python3.8/site-packages/torch/nn/modules/module.py\u001b[0m in \u001b[0;36m_call_impl\u001b[0;34m(self, *input, **kwargs)\u001b[0m\n\u001b[1;32m   1049\u001b[0m         if not (self._backward_hooks or self._forward_hooks or self._forward_pre_hooks or _global_backward_hooks\n\u001b[1;32m   1050\u001b[0m                 or _global_forward_hooks or _global_forward_pre_hooks):\n\u001b[0;32m-> 1051\u001b[0;31m             \u001b[0;32mreturn\u001b[0m \u001b[0mforward_call\u001b[0m\u001b[0;34m(\u001b[0m\u001b[0;34m*\u001b[0m\u001b[0minput\u001b[0m\u001b[0;34m,\u001b[0m \u001b[0;34m**\u001b[0m\u001b[0mkwargs\u001b[0m\u001b[0;34m)\u001b[0m\u001b[0;34m\u001b[0m\u001b[0;34m\u001b[0m\u001b[0m\n\u001b[0m\u001b[1;32m   1052\u001b[0m         \u001b[0;31m# Do not call functions when jit is used\u001b[0m\u001b[0;34m\u001b[0m\u001b[0;34m\u001b[0m\u001b[0;34m\u001b[0m\u001b[0m\n\u001b[1;32m   1053\u001b[0m         \u001b[0mfull_backward_hooks\u001b[0m\u001b[0;34m,\u001b[0m \u001b[0mnon_full_backward_hooks\u001b[0m \u001b[0;34m=\u001b[0m \u001b[0;34m[\u001b[0m\u001b[0;34m]\u001b[0m\u001b[0;34m,\u001b[0m \u001b[0;34m[\u001b[0m\u001b[0;34m]\u001b[0m\u001b[0;34m\u001b[0m\u001b[0;34m\u001b[0m\u001b[0m\n",
      "\u001b[0;32m~/anaconda3/envs/pm4ai/lib/python3.8/site-packages/torch/nn/modules/loss.py\u001b[0m in \u001b[0;36mforward\u001b[0;34m(self, input, target)\u001b[0m\n\u001b[1;32m   1118\u001b[0m \u001b[0;34m\u001b[0m\u001b[0m\n\u001b[1;32m   1119\u001b[0m     \u001b[0;32mdef\u001b[0m \u001b[0mforward\u001b[0m\u001b[0;34m(\u001b[0m\u001b[0mself\u001b[0m\u001b[0;34m,\u001b[0m \u001b[0minput\u001b[0m\u001b[0;34m:\u001b[0m \u001b[0mTensor\u001b[0m\u001b[0;34m,\u001b[0m \u001b[0mtarget\u001b[0m\u001b[0;34m:\u001b[0m \u001b[0mTensor\u001b[0m\u001b[0;34m)\u001b[0m \u001b[0;34m->\u001b[0m \u001b[0mTensor\u001b[0m\u001b[0;34m:\u001b[0m\u001b[0;34m\u001b[0m\u001b[0;34m\u001b[0m\u001b[0m\n\u001b[0;32m-> 1120\u001b[0;31m         return F.cross_entropy(input, target, weight=self.weight,\n\u001b[0m\u001b[1;32m   1121\u001b[0m                                ignore_index=self.ignore_index, reduction=self.reduction)\n\u001b[1;32m   1122\u001b[0m \u001b[0;34m\u001b[0m\u001b[0m\n",
      "\u001b[0;32m~/anaconda3/envs/pm4ai/lib/python3.8/site-packages/torch/nn/functional.py\u001b[0m in \u001b[0;36mcross_entropy\u001b[0;34m(input, target, weight, size_average, ignore_index, reduce, reduction)\u001b[0m\n\u001b[1;32m   2822\u001b[0m     \u001b[0;32mif\u001b[0m \u001b[0msize_average\u001b[0m \u001b[0;32mis\u001b[0m \u001b[0;32mnot\u001b[0m \u001b[0;32mNone\u001b[0m \u001b[0;32mor\u001b[0m \u001b[0mreduce\u001b[0m \u001b[0;32mis\u001b[0m \u001b[0;32mnot\u001b[0m \u001b[0;32mNone\u001b[0m\u001b[0;34m:\u001b[0m\u001b[0;34m\u001b[0m\u001b[0;34m\u001b[0m\u001b[0m\n\u001b[1;32m   2823\u001b[0m         \u001b[0mreduction\u001b[0m \u001b[0;34m=\u001b[0m \u001b[0m_Reduction\u001b[0m\u001b[0;34m.\u001b[0m\u001b[0mlegacy_get_string\u001b[0m\u001b[0;34m(\u001b[0m\u001b[0msize_average\u001b[0m\u001b[0;34m,\u001b[0m \u001b[0mreduce\u001b[0m\u001b[0;34m)\u001b[0m\u001b[0;34m\u001b[0m\u001b[0;34m\u001b[0m\u001b[0m\n\u001b[0;32m-> 2824\u001b[0;31m     \u001b[0;32mreturn\u001b[0m \u001b[0mtorch\u001b[0m\u001b[0;34m.\u001b[0m\u001b[0m_C\u001b[0m\u001b[0;34m.\u001b[0m\u001b[0m_nn\u001b[0m\u001b[0;34m.\u001b[0m\u001b[0mcross_entropy_loss\u001b[0m\u001b[0;34m(\u001b[0m\u001b[0minput\u001b[0m\u001b[0;34m,\u001b[0m \u001b[0mtarget\u001b[0m\u001b[0;34m,\u001b[0m \u001b[0mweight\u001b[0m\u001b[0;34m,\u001b[0m \u001b[0m_Reduction\u001b[0m\u001b[0;34m.\u001b[0m\u001b[0mget_enum\u001b[0m\u001b[0;34m(\u001b[0m\u001b[0mreduction\u001b[0m\u001b[0;34m)\u001b[0m\u001b[0;34m,\u001b[0m \u001b[0mignore_index\u001b[0m\u001b[0;34m)\u001b[0m\u001b[0;34m\u001b[0m\u001b[0;34m\u001b[0m\u001b[0m\n\u001b[0m\u001b[1;32m   2825\u001b[0m \u001b[0;34m\u001b[0m\u001b[0m\n\u001b[1;32m   2826\u001b[0m \u001b[0;34m\u001b[0m\u001b[0m\n",
      "\u001b[0;31mRuntimeError\u001b[0m: Expected object of scalar type Long but got scalar type Byte for argument #2 'target' in call to _thnn_nll_loss_forward"
     ]
    }
   ],
   "source": [
    "train(model=model,\n",
    "      optimizer=optimizer,\n",
    "      criterion=loss_func,\n",
    "      data_loader=train_loader)"
   ]
  },
  {
   "cell_type": "code",
   "execution_count": null,
   "metadata": {},
   "outputs": [],
   "source": [
    "len(next(iter(train_loader))[1])"
   ]
  },
  {
   "cell_type": "code",
   "execution_count": null,
   "metadata": {},
   "outputs": [],
   "source": []
  },
  {
   "cell_type": "code",
   "execution_count": null,
   "metadata": {},
   "outputs": [],
   "source": [
    "len(train_loader)"
   ]
  },
  {
   "cell_type": "code",
   "execution_count": null,
   "metadata": {
    "id": "qb0GcFkYlofx"
   },
   "outputs": [],
   "source": [
    "X = train_batch[0]\n",
    "y = train_batch[1]"
   ]
  },
  {
   "cell_type": "code",
   "execution_count": null,
   "metadata": {},
   "outputs": [],
   "source": [
    "X_float = X.float()  # Convert X to a float data type\n",
    "X_normalized = X_float / 255.0  # Normalize if X is in the range 0-255\n",
    "X_reshaped = X_normalized.reshape(-1, 28*28)  # Reshape X as per your model's input requirement\n",
    "output = model(X_reshaped)  # Now you can pass it to your model\n"
   ]
  },
  {
   "cell_type": "code",
   "execution_count": null,
   "metadata": {},
   "outputs": [],
   "source": [
    "preds = output"
   ]
  },
  {
   "cell_type": "code",
   "execution_count": null,
   "metadata": {
    "id": "gSJQtnAEqgFS"
   },
   "outputs": [],
   "source": [
    "preds.shape"
   ]
  },
  {
   "cell_type": "code",
   "execution_count": null,
   "metadata": {
    "id": "EFjjr3FAhWEj"
   },
   "outputs": [],
   "source": [
    "# preds = torch.nn.functional.one_hot(preds.max(axis=1)[1])\n",
    "# preds.argmax(axis=1)"
   ]
  },
  {
   "cell_type": "code",
   "execution_count": null,
   "metadata": {
    "id": "oPoF3ZSbuZ11"
   },
   "outputs": [],
   "source": [
    "print(y.argmax(axis=1).shape)\n",
    "y.argmax(axis=1)"
   ]
  },
  {
   "cell_type": "code",
   "execution_count": null,
   "metadata": {},
   "outputs": [],
   "source": [
    "print(y.shape)\n",
    "y.argmax(axis=1)"
   ]
  },
  {
   "cell_type": "code",
   "execution_count": null,
   "metadata": {},
   "outputs": [],
   "source": [
    "print(preds.shape)\n",
    "preds"
   ]
  },
  {
   "cell_type": "code",
   "execution_count": null,
   "metadata": {},
   "outputs": [],
   "source": [
    "criterion = nn.CrossEntropyLoss()"
   ]
  },
  {
   "cell_type": "code",
   "execution_count": null,
   "metadata": {
    "id": "it_Eg2hotCQ_"
   },
   "outputs": [],
   "source": [
    "criterion(preds, y.argmax(axis=1))"
   ]
  },
  {
   "cell_type": "code",
   "execution_count": null,
   "metadata": {},
   "outputs": [],
   "source": []
  },
  {
   "cell_type": "code",
   "execution_count": null,
   "metadata": {},
   "outputs": [],
   "source": []
  },
  {
   "cell_type": "code",
   "execution_count": null,
   "metadata": {},
   "outputs": [],
   "source": []
  },
  {
   "cell_type": "code",
   "execution_count": null,
   "metadata": {},
   "outputs": [],
   "source": []
  },
  {
   "cell_type": "code",
   "execution_count": null,
   "metadata": {
    "id": "2GXp7Hgi_rL4"
   },
   "outputs": [],
   "source": [
    "\n",
    "\n",
    "# def valid(model, criterion, data_loader):\n",
    "#     \"Equivalent to the training function without any backpropagation or optimisation steps\"\n",
    "#     model.eval()\n",
    "#     valid_loss, valid_accuracy = 0, 0\n",
    "#     with torch.no_grad():\n",
    "#         for input, target in data_loader:\n",
    "#             input, target = input.to(device), target.to(device)\n",
    "\n",
    "#             output = model(input)\n",
    "#             loss = criterion(output, target)\n",
    "\n",
    "#             valid_loss += loss*input.size(0)\n",
    "\n",
    "#             pred = output.softmax(dim=1).max(dim=1)[1]\n",
    "\n",
    "#             valid_accuracy += accuracy_score(target.cpu().numpy(), pred.detach().cpu().numpy())*input.size(0)\n",
    "\n",
    "#         valid_loss = valid_loss / len(data_loader.dataset)\n",
    "#         valid_accuracy = valid_accuracy/len(data_loader.dataset)\n",
    "#         return valid_loss, valid_accuracy\n"
   ]
  },
  {
   "cell_type": "markdown",
   "metadata": {
    "id": "pMiovebI_rL4"
   },
   "source": [
    "### 2.7 Train and validate the model\n",
    "\n",
    "* Train your model\n",
    "\n",
    "* Visualise the output of a validation sample along training\n",
    "\n",
    "* At the end of training, plot the 32 reconstructed and target samples from a validation batch\n",
    "\n",
    "* What do you observe?\n",
    "\n",
    "* Are the results as expected?\n"
   ]
  },
  {
   "cell_type": "code",
   "execution_count": null,
   "metadata": {
    "id": "s82at41L_rL4"
   },
   "outputs": [],
   "source": [
    "# Train model\n"
   ]
  },
  {
   "cell_type": "code",
   "execution_count": null,
   "metadata": {
    "id": "aQ1EnssDjJs1"
   },
   "outputs": [],
   "source": [
    "# Plot recon and target from valid batch"
   ]
  },
  {
   "cell_type": "markdown",
   "metadata": {
    "id": "rH8LPdae_rL4"
   },
   "source": [
    "### 2.8 Save model to disk and load\n",
    "\n",
    "* ``Pytorch`` stores all the parameters of models and optimizers, their weights and biases in an easy to read dictionary called a \"state-dict\".\n",
    "\n",
    "* When we store models and optimizers, we store the state-dict.  \n",
    "\n",
    "* Together with the model definition we can then restore the model to it's state when we stored it to disk.\n",
    "\n",
    "* Let's look at the contents of the state-dict of both our optimizer and our model:"
   ]
  },
  {
   "cell_type": "code",
   "execution_count": null,
   "metadata": {
    "id": "r-xx9IMh_rL4"
   },
   "outputs": [],
   "source": [
    "# Print model's state_dict\n",
    "print(\"Model's state_dict:\")\n",
    "for param_tensor in model.state_dict():\n",
    "    print(param_tensor, \"\\t\", model.state_dict()[param_tensor].size())\n",
    "\n",
    "# Print optimiser's state_dict\n",
    "print(\"Optimiser's state_dict:\")\n",
    "for var_name in optimiser.state_dict():\n",
    "    print(var_name, \"\\t\", optimiser.state_dict()[var_name])\n"
   ]
  },
  {
   "cell_type": "markdown",
   "metadata": {
    "id": "rTJyPrbV_rL5"
   },
   "source": [
    "From colab (and locally) we can store models to disk using ```torch.save``` and passing both a models state_dict() and a path where to store it."
   ]
  },
  {
   "cell_type": "code",
   "execution_count": null,
   "metadata": {
    "id": "O0UVJSmK_rL5"
   },
   "outputs": [],
   "source": [
    "#!mkdir '/content/gdrive/My Drive/models'  ## create the director for storing the model in Google Drive\n",
    "\n",
    "model_save_name = 'chestmnist_simpleFFN_model.pt'           # .pt and .pth are common file extensions for saving models in pytorch\n",
    "path = F\"/content/gdrive/My Drive/models/{model_save_name}\" # use this to store in your Google Drive storage\n",
    "path = F'./{model_save_name}'                               # use this to store locally (it will be erased once the colab session is over)\n",
    "torch.save(model.state_dict(), path)\n",
    "\n",
    "optimiser_save_name = 'chestmnist_simpleFFN_optimiser.pt'\n",
    "path = F\"/content/gdrive/My Drive/models/{optimiser_save_name}\"\n",
    "path = F\"./{optimiser_save_name}\"\n",
    "torch.save(model.state_dict(), path)"
   ]
  },
  {
   "cell_type": "markdown",
   "metadata": {
    "id": "wz4ZRrXq_rL5"
   },
   "source": [
    "Finally, we can restore models from the saved ```state_dict```'s and do a number of things such as:\n",
    "1. Use it as a checkpoint and continue training (given we stored the optimizer as well)\n",
    "2. Make predictions from our model\n",
    "3. Perform inspections of our model\n",
    "4. Use our model in ensembles\n",
    "5. ...\n",
    "\n",
    "By default a loaded model is put into ```.train()``` mode. So be careful when using networks that behave different depending on training and test time e.g. dropout regularized networks or batch-normalized networks."
   ]
  },
  {
   "cell_type": "code",
   "execution_count": null,
   "metadata": {
    "id": "cG_13t8i_rL5"
   },
   "outputs": [],
   "source": [
    "# model_save_name = 'chestmnist_simpleFFN_model.pt'           # .pt and .pth are common file extensions for saving models in pytorch\n",
    "# path = F\"/content/gdrive/My Drive/models/{model_save_name}\" # use this to store in your Google Drive storage\n",
    "# path = F'./{model_save_name}'\n",
    "\n",
    "# model = simpleFFN(input_size= 1 * 28 * 28, hidden_size_1=150, hidden_size_2=50, hidden_size_3=50, hidden_size_4=150).to(device) ## creates an instance of the model\n",
    "# model.load_state_dict(torch.load(path)) ## loads the parameters of the model in path. state_dict is a dictionary object that maps each layer in the model to its trainable parameters (weights and biases).\n",
    "# model.eval()\n",
    "\n",
    "# valid_loss = valid(model, mseloss, valid_loader)\n",
    "# print(\"Avg. Valid Loss: %1.3f\" % valid_loss.item())"
   ]
  },
  {
   "cell_type": "markdown",
   "metadata": {
    "id": "uADu0Udo_rL5"
   },
   "source": [
    "### 2.8 Training with Unet\n",
    "\n",
    "* Instantiate a ``U-net`` using the snipped below.\n",
    "\n",
    "* For now you do not need to understand what a ``U-net`` is or how it works. This will be explored later in the course.\n",
    "\n",
    "* Print the summary of the model and have a look at what kind of layers it includes. Search for these layers in the ``Pytorch`` documentation to gain a general understanding of their operations.\n",
    "\n"
   ]
  },
  {
   "cell_type": "code",
   "execution_count": null,
   "metadata": {
    "id": "MRRtG8aM_rL5"
   },
   "outputs": [],
   "source": [
    "# from monai.networks.nets import UNet\n",
    "# set_seed(42)\n",
    "# model = UNet(spatial_dims=2, in_channels=1, out_channels=1, channels=(8, 8, 8), strides=(1, 1,), act=\"mish\").to(device)\n",
    "# summ = summary(model, input_size=(1, 28, 28))\n"
   ]
  },
  {
   "cell_type": "markdown",
   "metadata": {
    "id": "wvzwwRlWhwFl"
   },
   "source": [
    "* Train the model with the same hyperparameters from before. Don't forget to re-initialise the optimiser with the correct model parameters\n",
    "\n",
    "* As before, visualise some validation samples along training.\n",
    "\n",
    "* Plot 32 reconstructed and target samples from the validation batch\n",
    "\n",
    "* Save your final model\n",
    "\n",
    "* What differences do you observe from training with a simple feed-forward network? Why do you think that is?"
   ]
  },
  {
   "cell_type": "code",
   "execution_count": null,
   "metadata": {
    "id": "ekM5VEbsmn-r"
   },
   "outputs": [],
   "source": [
    "# Instantiate optimiser\n"
   ]
  },
  {
   "cell_type": "code",
   "execution_count": null,
   "metadata": {
    "id": "CyZggtJq_rL5"
   },
   "outputs": [],
   "source": [
    "# Train model\n"
   ]
  },
  {
   "cell_type": "code",
   "execution_count": null,
   "metadata": {
    "id": "TqzSyfiRjMT3"
   },
   "outputs": [],
   "source": [
    "# Plot recon and target from valid batch"
   ]
  },
  {
   "cell_type": "code",
   "execution_count": null,
   "metadata": {
    "id": "8Jg5novaU7b0"
   },
   "outputs": [],
   "source": [
    "# Save model"
   ]
  }
 ],
 "metadata": {
  "accelerator": "GPU",
  "colab": {
   "provenance": []
  },
  "gpuClass": "standard",
  "kernelspec": {
   "display_name": "Python 3",
   "language": "python",
   "name": "python3"
  },
  "language_info": {
   "codemirror_mode": {
    "name": "ipython",
    "version": 3
   },
   "file_extension": ".py",
   "mimetype": "text/x-python",
   "name": "python",
   "nbconvert_exporter": "python",
   "pygments_lexer": "ipython3",
   "version": "3.8.8"
  },
  "vscode": {
   "interpreter": {
    "hash": "b996dd704eec390d394e4eff83c8c73a7c6e40d054c583352c9aa3265aab441b"
   }
  }
 },
 "nbformat": 4,
 "nbformat_minor": 1
}
