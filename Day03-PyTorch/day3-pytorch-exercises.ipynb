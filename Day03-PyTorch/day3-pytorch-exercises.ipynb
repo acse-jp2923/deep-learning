{
 "cells": [
  {
   "cell_type": "markdown",
   "metadata": {
    "id": "0oHbTEGZ_rL0"
   },
   "source": [
    "<p align=\"center\">\n",
    "    <img src=\"https://drive.google.com/uc?id=1DvKhAzLtk-Hilu7Le73WAOz2EBR5d41G\" width=\"400\"/>\n",
    "</p>\n",
    "\n",
    "---\n",
    "\n",
    "<p align=\"center\">\n",
    "<img src=\"https://pytorch.org/assets/images/pytorch-logo.png\" alt=\"drawing\" width=\"100\"/>\n",
    "</p>\n",
    "\n",
    "\n",
    "\n",
    "<h1 style=\"text-align: center;\"> Introduction to Pytorch for Deep Learning\n",
    "  – Exercises</h1>\n",
    "\n",
    "\n",
    "#### **Afternoon contents/agenda**\n",
    "\n",
    "1. Understanding the basics:\n",
    "- [But what is a convolution?](https://www.youtube.com/watch?v=KuXjwB4LzSA&ab_channel=3Blue1Brown)\n",
    "\n",
    "- [But what is a neural network?](https://www.youtube.com/watch?v=aircAruvnKk&t=1s&ab_channel=3Blue1Brown)\n",
    "\n",
    "- [What is backpropagation really doing?](https://www.youtube.com/watch?v=Ilg3gGewQ5U&t=2s&ab_channel=3Blue1Brown)\n",
    "\n",
    "2. In this exercise we will work with a chest x-ray dataset from [MedMnist](https://github.com/MedMNIST/MedMNIST) to tackle a reconstruction problem. Often, bio-engineering datasets have sparse or missing information which are difficult to to avoid due to poor design unexpected failures or restricitions in acquisition times. Interpolation is a common method to pre-process the data to simulate missing data, but fails when the amount of information is large. Here we will use a neural network to predict missing values by learning the distribution of the dataset as opposed to localised operations."
   ]
  },
  {
   "cell_type": "markdown",
   "metadata": {
    "id": "20Pb9we5_rL1"
   },
   "source": [
    "### 2.0 Some imports and utils"
   ]
  },
  {
   "cell_type": "code",
   "execution_count": 1,
   "metadata": {
    "colab": {
     "base_uri": "https://localhost:8080/"
    },
    "id": "EAsd9PdiApgK",
    "outputId": "281906f0-d534-45a9-c46f-b53e2c256724"
   },
   "outputs": [],
   "source": [
    "# try:\n",
    "#   from google.colab import drive\n",
    "#   drive.mount('/content/drive')\n",
    "# except:\n",
    "#   pass"
   ]
  },
  {
   "cell_type": "code",
   "execution_count": 2,
   "metadata": {},
   "outputs": [],
   "source": [
    "from torchvision.transforms import Compose, ToTensor, GaussianBlur, Resize, Grayscale, Lambda\n"
   ]
  },
  {
   "cell_type": "code",
   "execution_count": 3,
   "metadata": {
    "colab": {
     "base_uri": "https://localhost:8080/"
    },
    "id": "UXZ7QY4L_rL1",
    "outputId": "e031460b-c4ad-49d2-f377-76b341ad9b83"
   },
   "outputs": [
    {
     "data": {
      "text/plain": [
       "device(type='cuda')"
      ]
     },
     "execution_count": 3,
     "metadata": {},
     "output_type": "execute_result"
    }
   ],
   "source": [
    "# !pip install torchsummary progressbar2 livelossplot monai -q\n",
    "\n",
    "import torch\n",
    "import torch.nn as nn\n",
    "import numpy as np\n",
    "import random\n",
    "from torch.utils.data import Dataset\n",
    "from PIL import Image\n",
    "# from torchsummary import summary\n",
    "from torchvision.utils import make_grid\n",
    "import matplotlib.pyplot as plt\n",
    "from livelossplot import PlotLosses\n",
    "from torchvision import transforms\n",
    "\n",
    "# def set_seed(seed):\n",
    "#     \"\"\"\n",
    "#     Use this to set ALL the random seeds to a fixed value and take out any randomness from cuda kernels\n",
    "#     \"\"\"\n",
    "#     random.seed(seed)\n",
    "#     np.random.seed(seed)\n",
    "#     torch.manual_seed(seed)\n",
    "#     torch.cuda.manual_seed_all(seed)\n",
    "\n",
    "#     torch.backends.cudnn.benchmark = True  ##uses the inbuilt cudnn auto-tuner to find the fastest convolution algorithms. -\n",
    "#     torch.backends.cudnn.enabled   = True\n",
    "\n",
    "#     return True\n",
    "\n",
    "\n",
    "# def set_device(device=\"cpu\", idx=0):\n",
    "#     if device != \"cpu\":\n",
    "#         if torch.cuda.device_count() > idx and torch.cuda.is_available():\n",
    "#             print(\"Cuda installed! Running on GPU {} {}!\".format(idx, torch.cuda.get_device_name(idx)))\n",
    "#             device=\"cuda:{}\".format(idx)\n",
    "#         elif torch.cuda.device_count() > 0 and torch.cuda.is_available():\n",
    "#             print(\"Cuda installed but only {} GPU(s) available! Running on GPU 0 {}!\".format(torch.cuda.device_count(), torch.cuda.get_device_name()))\n",
    "#             device=\"cuda:0\"\n",
    "#         else:\n",
    "#             device=\"cpu\"\n",
    "#             print(\"No GPU available! Running on CPU\")\n",
    "#     return device\n",
    "\n",
    "# device = set_device(\"cuda\")\n",
    "\n",
    "device = torch.device('cuda' if torch.cuda.is_available() else 'cpu')\n",
    "device"
   ]
  },
  {
   "cell_type": "code",
   "execution_count": 4,
   "metadata": {
    "scrolled": true
   },
   "outputs": [
    {
     "name": "stdout",
     "output_type": "stream",
     "text": [
      "True\n"
     ]
    }
   ],
   "source": [
    "print(torch.cuda.is_available())"
   ]
  },
  {
   "cell_type": "code",
   "execution_count": null,
   "metadata": {},
   "outputs": [],
   "source": []
  },
  {
   "cell_type": "markdown",
   "metadata": {
    "id": "bJEiTopU_rL2"
   },
   "source": [
    "### 2.1  Download and inspect the data using the commands below\n"
   ]
  },
  {
   "cell_type": "code",
   "execution_count": 5,
   "metadata": {
    "colab": {
     "base_uri": "https://localhost:8080/"
    },
    "id": "J-VOPyWQ_rL2",
    "outputId": "09e496c0-dc5a-45ad-d24b-e819702ad26f",
    "scrolled": true
   },
   "outputs": [],
   "source": [
    "# !wget https://zenodo.org/record/6496656/files/chestmnist.npz"
   ]
  },
  {
   "cell_type": "code",
   "execution_count": 6,
   "metadata": {
    "colab": {
     "base_uri": "https://localhost:8080/"
    },
    "id": "B7MTP18-_rL2",
    "outputId": "6c31de77-9fa5-47d7-c2e2-7c2ec9294484",
    "scrolled": true
   },
   "outputs": [
    {
     "name": "stdout",
     "output_type": "stream",
     "text": [
      "['train_images', 'val_images', 'test_images', 'train_labels', 'val_labels', 'test_labels']\n"
     ]
    }
   ],
   "source": [
    "ex_data = np.load(\"./chestmnist.npz\")\n",
    "print(ex_data.files)"
   ]
  },
  {
   "cell_type": "markdown",
   "metadata": {
    "id": "gCdhFXC4_rL2"
   },
   "source": [
    "### 2.3 Create a custom dataset\n",
    "\n",
    "* Create your own ``Dataset`` derived class that takes as initialisation arguments:\n",
    "  - ``data_path``, the path to the data\n",
    "  - a probability for a random mask ``p``,\n",
    "  - a ``transform`` to be applied to the data,\n",
    "  - and a ``split`` argument to dictate what part of the data to load (train, validation, test)\n",
    "\n",
    "* Load the data into an argument ``self.data`` inside the initialisation\n",
    "\n",
    "* Create a method for your class ``_get_mask``, that generates a binary mask of the size of the sample to randomly erase some data points based on the probability ``p``\n",
    "\n",
    "* Customise the  ``__getitem__`` class so that it loads a sample from ``self.data`` and returns a masked version of the sample, and the original sample (the former will be input to our network and the later the target)\n",
    "\n",
    "* Don't forget to set the built-in method ``__len__`` to the correct size\n",
    "\n",
    "* Instantiate the class for a training set and a validation set. Plot one input and output for each of these sets"
   ]
  },
  {
   "cell_type": "code",
   "execution_count": 7,
   "metadata": {
    "colab": {
     "base_uri": "https://localhost:8080/"
    },
    "id": "yQaH3SGs6TlM",
    "outputId": "ba5ba498-963c-47ce-8f21-a194db332593",
    "scrolled": true
   },
   "outputs": [
    {
     "name": "stdout",
     "output_type": "stream",
     "text": [
      "['train_images', 'val_images', 'test_images', 'train_labels', 'val_labels', 'test_labels']\n"
     ]
    }
   ],
   "source": [
    "print(ex_data.files)"
   ]
  },
  {
   "cell_type": "code",
   "execution_count": null,
   "metadata": {},
   "outputs": [],
   "source": []
  },
  {
   "cell_type": "code",
   "execution_count": 8,
   "metadata": {
    "id": "BN4muwLu_rL3"
   },
   "outputs": [],
   "source": [
    "class ChestMNIST(Dataset):\n",
    "    def __init__(self, data_path, split=\"train\", p=0.2, transform=None):\n",
    "        self.data_path = data_path\n",
    "        self.split = split\n",
    "        self.p = p\n",
    "        self.transform = transform\n",
    "        if self.split == \"train\":\n",
    "            self.data = np.load(self.data_path)[\"train_images\"]        \n",
    "        elif self.split == \"test\":\n",
    "            self.data = np.load(self.data_path)[\"test_images\"]        \n",
    "        elif self.split == \"val\":\n",
    "            self.data = np.load(self.data_path)[\"val_images\"]\n",
    "        else:\n",
    "            return ValueError(\"wrong split\")\n",
    "            \n",
    "    def _get_mask(self, img_shape):\n",
    "        # Create a method for your class _get_mask, that generates a binary mask\n",
    "        # of the size of the sample to randomly erase some data points based on\n",
    "        # the probability p\n",
    "\n",
    "        mask = np.random.uniform(0, 1, size=(img_shape)) > self.p\n",
    "        return mask\n",
    "\n",
    "    def __getitem__(self, idx):\n",
    "        sample = self.data[idx]\n",
    "\n",
    "        if self.transform:\n",
    "            sample = self.transform(sample)\n",
    "        \n",
    "        # masked image (want to pred), actual image (our target)\n",
    "        return sample * self._get_mask(sample.shape), sample\n",
    "        \n",
    "    def __len__(self):\n",
    "        return self.data.shape[0]\n"
   ]
  },
  {
   "cell_type": "code",
   "execution_count": 9,
   "metadata": {
    "scrolled": true
   },
   "outputs": [
    {
     "data": {
      "image/png": "[encoded data removed]",
      "text/plain": [
       "<Figure size 576x864 with 8 Axes>"
      ]
     },
     "metadata": {
      "needs_background": "light"
     },
     "output_type": "display_data"
    }
   ],
   "source": [
    "# Instantiate datasets\n",
    "our_data = ChestMNIST(\n",
    "    data_path=\"./chestmnist.npz\",\n",
    "    split=\"train\",\n",
    "    p=1,\n",
    "    transform=None\n",
    ")\n",
    "\n",
    "# Plots\n",
    "fig, ax = plt.subplots(4, 2, figsize=(8,12))\n",
    "for i in range(4):\n",
    "    ax[i][0].imshow(our_data[i][0])\n",
    "    ax[i][1].imshow(our_data[i][1])\n"
   ]
  },
  {
   "cell_type": "code",
   "execution_count": null,
   "metadata": {
    "id": "Z1TfPg8K_rL3"
   },
   "outputs": [],
   "source": []
  },
  {
   "cell_type": "markdown",
   "metadata": {
    "id": "0Ew068BZ_rL3"
   },
   "source": [
    "### 2.4 Modify our ``simpleFFN`` model"
   ]
  },
  {
   "cell_type": "markdown",
   "metadata": {
    "id": "mHSUsJap_rL3"
   },
   "source": [
    "* Add two more hidden layers to the model\n",
    "\n",
    "* Change the size of the output to match the size of the input\n",
    "\n",
    "* Change the activation of the model to [``Mish``](https://arxiv.org/abs/1908.08681)\n",
    "\n",
    "* Change the activation of last layer, what should it be?\n",
    "\n",
    "* Instantiate the model and print a summary\n"
   ]
  },
  {
   "cell_type": "code",
   "execution_count": 10,
   "metadata": {},
   "outputs": [],
   "source": [
    "\n",
    "# dimensions = [784, 200, 100, 100, 200, 784]\n",
    "dimensions = [784, 150, 50, 50, 150, 784]\n",
    "\n",
    "class neural_net(nn.Module):\n",
    "    def __init__(self, dimensions):\n",
    "        super(neural_net, self).__init__()\n",
    "        # fully connected\n",
    "        self.fc1 = nn.Linear(dimensions[0], dimensions[1], bias=False)\n",
    "        self.fc2 = nn.Linear(dimensions[1], dimensions[2], bias=False)\n",
    "        self.fc3 = nn.Linear(dimensions[2], dimensions[3], bias=False)\n",
    "        self.fc4 = nn.Linear(dimensions[3], dimensions[4], bias=False)\n",
    "        self.fc5 = nn.Linear(dimensions[4], dimensions[-1], bias=False)\n",
    "        # activation functions/special\n",
    "        self.sigmoid = nn.Sigmoid()\n",
    "        self.tanh = nn.Tanh()\n",
    "        self.mish = nn.Mish()\n",
    "        self.relu = nn.ReLU()\n",
    "        self.softmax = nn.Softmax()\n",
    "        self.dropout = nn.Dropout(0.5)\n",
    "\n",
    "    def forward(self, X):\n",
    "        # INPUT LAYER\n",
    "        out = self.fc1(X.flatten(start_dim=1).float())\n",
    "        out = self.mish(out)\n",
    "        \n",
    "        # HIDDEN 1\n",
    "        out = self.fc2(out)\n",
    "        out = self.mish(out)\n",
    "        \n",
    "        # HIDDEN 2\n",
    "        out = self.fc3(out)\n",
    "        out = self.mish(out)\n",
    "\n",
    "        # HIDDEN 3\n",
    "        out = self.fc4(out)\n",
    "        out = self.mish(out)\n",
    "        \n",
    "        # OUTPUT LAYER\n",
    "        out = self.fc5(out)\n",
    "        out = self.sigmoid(out)\n",
    "\n",
    "        # TRANSFORMED OUTPUT LAYER \n",
    "        return out.view(X.shape)\n",
    "\n",
    "# model = model.to(device)\n"
   ]
  },
  {
   "cell_type": "code",
   "execution_count": 11,
   "metadata": {},
   "outputs": [],
   "source": [
    "\n",
    "# dimensions = [784, 200, 50, 14]\n",
    "\n",
    "# class neural_net(nn.Module):\n",
    "#     def __init__(self, dimensions):\n",
    "#         super(neural_net, self).__init__()\n",
    "#         # fully connected\n",
    "#         self.fc1 = nn.Linear(dimensions[0], dimensions[1], bias=False)\n",
    "#         self.fc2 = nn.Linear(dimensions[1], dimensions[2], bias=False)\n",
    "#         self.fc3 = nn.Linear(dimensions[2], dimensions[-1], bias=False)\n",
    "#         # activation functions/special\n",
    "#         self.sigmoid = nn.Sigmoid()\n",
    "#         self.tanh = nn.Tanh()\n",
    "#         self.mish = nn.Mish()\n",
    "#         self.relu = nn.ReLU()\n",
    "#         self.softmax = nn.Softmax()\n",
    "#         self.dropout = nn.Dropout(0.5)\n",
    "\n",
    "#     def forward(self, X):\n",
    "#         # out = self.fc1(X.float())\n",
    "#         out = self.fc1(X.flatten(start_dim=1).float())\n",
    "#         out = self.mish(out)\n",
    "#         out = self.fc2(out)\n",
    "#         out = self.mish(out)\n",
    "#         out = self.fc3(out).reshape(-1,28,28)\n",
    "#         out = self.sigmoid()\n",
    "#         return out\n",
    "\n",
    "# # model = model.to(device)\n"
   ]
  },
  {
   "cell_type": "markdown",
   "metadata": {
    "id": "Inc4U5fG_rL4"
   },
   "source": [
    "### 2.5 Prepare parameters and hyperparameters for training\n",
    "\n",
    "* Set your hyperparameters:\n",
    "    - seed: 42\n",
    "    - mask probability: 0.6 (this is a heavy damaged imputation problem! We are only keeping 60% of the information)\n",
    "    - learning rate: 1e-2\n",
    "    - weight decay = 1e-6 (applied in optimiser)\n",
    "    - batch size: 128\n",
    "    - number of epochs: 30\n",
    "\n",
    "\n",
    "* Instantiate ``simpleFFN`` as our model with hidden sizes: 150, 50, 50, 150\n",
    "\n",
    "* Instantiate ``Adam`` as the optimiser\n",
    "\n",
    "* Instantiate ``MSELoss`` as a criterion\n",
    "\n",
    "* Collect any list of transformations you think are appropriate for this problem\n",
    "\n",
    "* Instantiate the training and validation dataset and create the dataloader for each\n",
    "\n",
    "* Visualise an input and target batch using ``make_grid``"
   ]
  },
  {
   "cell_type": "code",
   "execution_count": 12,
   "metadata": {
    "id": "lpavKdj9KaAa"
   },
   "outputs": [],
   "source": [
    "from torchvision import datasets"
   ]
  },
  {
   "cell_type": "code",
   "execution_count": 13,
   "metadata": {},
   "outputs": [],
   "source": [
    "from torchvision import transforms\n"
   ]
  },
  {
   "cell_type": "code",
   "execution_count": 14,
   "metadata": {
    "id": "h-p2-TWEJCpk"
   },
   "outputs": [],
   "source": [
    "# Hyperparameters\n",
    "# set_seed(42)\n",
    "mask_probability = 0.7 # (this is a heavy damaged imputation problem! We are only keeping 60% of the information)\n",
    "learning_rate = 1e-2\n",
    "learning_rate = 1e-4\n",
    "weight_decay = 1e-6 # (applied in optimiser)\n",
    "number_of_epochs = 30\n",
    "batch_size = 128\n",
    "# Training set up: model, optimiser, criterion\n",
    "model = neural_net(dimensions)\n",
    "optimizer = torch.optim.Adam(model.parameters(), weight_decay=weight_decay, lr=learning_rate)   # instantiate the optimizer\n",
    "criterion = nn.MSELoss()\n",
    "\n",
    "# Transforms, Dataset and dataloader\n",
    "\n",
    "transformations = transforms.Compose([\n",
    "    transforms.ToTensor(),\n",
    "    Lambda(lambda x:  x / 255.)\n",
    "])\n"
   ]
  },
  {
   "cell_type": "code",
   "execution_count": null,
   "metadata": {},
   "outputs": [],
   "source": []
  },
  {
   "cell_type": "code",
   "execution_count": 15,
   "metadata": {
    "id": "2pewVAL9_rL4"
   },
   "outputs": [],
   "source": [
    "train_dataset = ChestMNIST(\n",
    "    data_path=\"./chestmnist.npz\",\n",
    "    split=\"train\",\n",
    "    p=mask_probability,\n",
    "    transform=transformations\n",
    ")\n",
    "\n",
    "val_dataset = ChestMNIST(\n",
    "    data_path=\"./chestmnist.npz\",\n",
    "    split=\"val\",\n",
    "    p=mask_probability,\n",
    "    transform=transformations\n",
    ")\n",
    "\n",
    "test_dataset = ChestMNIST(\n",
    "    data_path=\"./chestmnist.npz\",\n",
    "    split=\"test\",\n",
    "    p=mask_probability,\n",
    "    transform=transformations\n",
    ")\n",
    "\n",
    "train_loader = torch.utils.data.DataLoader(\n",
    "    train_dataset,\n",
    "    batch_size=batch_size,\n",
    "    shuffle=True,\n",
    "    pin_memory=True)\n",
    "\n",
    "val_loader = torch.utils.data.DataLoader(\n",
    "    val_dataset,\n",
    "    batch_size=batch_size,\n",
    "    shuffle=True,\n",
    "    pin_memory=True)\n",
    "\n",
    "test_loader = torch.utils.data.DataLoader(\n",
    "    test_dataset,\n",
    "    batch_size=batch_size,\n",
    "    shuffle=True,\n",
    "    pin_memory=True)\n",
    "\n",
    "\n"
   ]
  },
  {
   "cell_type": "code",
   "execution_count": 16,
   "metadata": {
    "id": "AdAu4YFSCTzC"
   },
   "outputs": [],
   "source": [
    "# # Visualise a batch sample\n",
    "\n",
    "# ax[0].imshow(train_batch[0].reshape(-1,28,28)[0])\n",
    "# ax[1].imshow(train_batch[1].reshape(-1,28,28)[0])\n"
   ]
  },
  {
   "cell_type": "code",
   "execution_count": 17,
   "metadata": {},
   "outputs": [
    {
     "ename": "TypeError",
     "evalue": "Invalid shape (1, 28, 28) for image data",
     "output_type": "error",
     "traceback": [
      "\u001b[0;31m---------------------------------------------------------------------------\u001b[0m",
      "\u001b[0;31mTypeError\u001b[0m                                 Traceback (most recent call last)",
      "\u001b[0;32m<ipython-input-17-bfe5cd5b5c70>\u001b[0m in \u001b[0;36m<module>\u001b[0;34m\u001b[0m\n\u001b[1;32m      4\u001b[0m \u001b[0mfig\u001b[0m\u001b[0;34m,\u001b[0m \u001b[0max\u001b[0m \u001b[0;34m=\u001b[0m \u001b[0mplt\u001b[0m\u001b[0;34m.\u001b[0m\u001b[0msubplots\u001b[0m\u001b[0;34m(\u001b[0m\u001b[0;36m4\u001b[0m\u001b[0;34m,\u001b[0m \u001b[0;36m2\u001b[0m\u001b[0;34m,\u001b[0m \u001b[0mfigsize\u001b[0m\u001b[0;34m=\u001b[0m\u001b[0;34m(\u001b[0m\u001b[0;36m8\u001b[0m\u001b[0;34m,\u001b[0m\u001b[0;36m12\u001b[0m\u001b[0;34m)\u001b[0m\u001b[0;34m)\u001b[0m\u001b[0;34m\u001b[0m\u001b[0;34m\u001b[0m\u001b[0m\n\u001b[1;32m      5\u001b[0m \u001b[0;32mfor\u001b[0m \u001b[0mi\u001b[0m \u001b[0;32min\u001b[0m \u001b[0mrange\u001b[0m\u001b[0;34m(\u001b[0m\u001b[0;36m4\u001b[0m\u001b[0;34m)\u001b[0m\u001b[0;34m:\u001b[0m\u001b[0;34m\u001b[0m\u001b[0;34m\u001b[0m\u001b[0m\n\u001b[0;32m----> 6\u001b[0;31m     \u001b[0max\u001b[0m\u001b[0;34m[\u001b[0m\u001b[0mi\u001b[0m\u001b[0;34m]\u001b[0m\u001b[0;34m[\u001b[0m\u001b[0;36m0\u001b[0m\u001b[0;34m]\u001b[0m\u001b[0;34m.\u001b[0m\u001b[0mimshow\u001b[0m\u001b[0;34m(\u001b[0m\u001b[0mtrain_batch\u001b[0m\u001b[0;34m[\u001b[0m\u001b[0mi\u001b[0m\u001b[0;34m]\u001b[0m\u001b[0;34m[\u001b[0m\u001b[0;36m0\u001b[0m\u001b[0;34m]\u001b[0m\u001b[0;34m)\u001b[0m\u001b[0;34m\u001b[0m\u001b[0;34m\u001b[0m\u001b[0m\n\u001b[0m\u001b[1;32m      7\u001b[0m     \u001b[0max\u001b[0m\u001b[0;34m[\u001b[0m\u001b[0mi\u001b[0m\u001b[0;34m]\u001b[0m\u001b[0;34m[\u001b[0m\u001b[0;36m1\u001b[0m\u001b[0;34m]\u001b[0m\u001b[0;34m.\u001b[0m\u001b[0mimshow\u001b[0m\u001b[0;34m(\u001b[0m\u001b[0mtrain_batch\u001b[0m\u001b[0;34m[\u001b[0m\u001b[0mi\u001b[0m\u001b[0;34m]\u001b[0m\u001b[0;34m[\u001b[0m\u001b[0;36m1\u001b[0m\u001b[0;34m]\u001b[0m\u001b[0;34m)\u001b[0m\u001b[0;34m\u001b[0m\u001b[0;34m\u001b[0m\u001b[0m\n",
      "\u001b[0;32m~/anaconda3/envs/pm4ai/lib/python3.8/site-packages/matplotlib/__init__.py\u001b[0m in \u001b[0;36minner\u001b[0;34m(ax, data, *args, **kwargs)\u001b[0m\n\u001b[1;32m   1359\u001b[0m     \u001b[0;32mdef\u001b[0m \u001b[0minner\u001b[0m\u001b[0;34m(\u001b[0m\u001b[0max\u001b[0m\u001b[0;34m,\u001b[0m \u001b[0;34m*\u001b[0m\u001b[0margs\u001b[0m\u001b[0;34m,\u001b[0m \u001b[0mdata\u001b[0m\u001b[0;34m=\u001b[0m\u001b[0;32mNone\u001b[0m\u001b[0;34m,\u001b[0m \u001b[0;34m**\u001b[0m\u001b[0mkwargs\u001b[0m\u001b[0;34m)\u001b[0m\u001b[0;34m:\u001b[0m\u001b[0;34m\u001b[0m\u001b[0;34m\u001b[0m\u001b[0m\n\u001b[1;32m   1360\u001b[0m         \u001b[0;32mif\u001b[0m \u001b[0mdata\u001b[0m \u001b[0;32mis\u001b[0m \u001b[0;32mNone\u001b[0m\u001b[0;34m:\u001b[0m\u001b[0;34m\u001b[0m\u001b[0;34m\u001b[0m\u001b[0m\n\u001b[0;32m-> 1361\u001b[0;31m             \u001b[0;32mreturn\u001b[0m \u001b[0mfunc\u001b[0m\u001b[0;34m(\u001b[0m\u001b[0max\u001b[0m\u001b[0;34m,\u001b[0m \u001b[0;34m*\u001b[0m\u001b[0mmap\u001b[0m\u001b[0;34m(\u001b[0m\u001b[0msanitize_sequence\u001b[0m\u001b[0;34m,\u001b[0m \u001b[0margs\u001b[0m\u001b[0;34m)\u001b[0m\u001b[0;34m,\u001b[0m \u001b[0;34m**\u001b[0m\u001b[0mkwargs\u001b[0m\u001b[0;34m)\u001b[0m\u001b[0;34m\u001b[0m\u001b[0;34m\u001b[0m\u001b[0m\n\u001b[0m\u001b[1;32m   1362\u001b[0m \u001b[0;34m\u001b[0m\u001b[0m\n\u001b[1;32m   1363\u001b[0m         \u001b[0mbound\u001b[0m \u001b[0;34m=\u001b[0m \u001b[0mnew_sig\u001b[0m\u001b[0;34m.\u001b[0m\u001b[0mbind\u001b[0m\u001b[0;34m(\u001b[0m\u001b[0max\u001b[0m\u001b[0;34m,\u001b[0m \u001b[0;34m*\u001b[0m\u001b[0margs\u001b[0m\u001b[0;34m,\u001b[0m \u001b[0;34m**\u001b[0m\u001b[0mkwargs\u001b[0m\u001b[0;34m)\u001b[0m\u001b[0;34m\u001b[0m\u001b[0;34m\u001b[0m\u001b[0m\n",
      "\u001b[0;32m~/anaconda3/envs/pm4ai/lib/python3.8/site-packages/matplotlib/axes/_axes.py\u001b[0m in \u001b[0;36mimshow\u001b[0;34m(self, X, cmap, norm, aspect, interpolation, alpha, vmin, vmax, origin, extent, filternorm, filterrad, resample, url, **kwargs)\u001b[0m\n\u001b[1;32m   5607\u001b[0m                               resample=resample, **kwargs)\n\u001b[1;32m   5608\u001b[0m \u001b[0;34m\u001b[0m\u001b[0m\n\u001b[0;32m-> 5609\u001b[0;31m         \u001b[0mim\u001b[0m\u001b[0;34m.\u001b[0m\u001b[0mset_data\u001b[0m\u001b[0;34m(\u001b[0m\u001b[0mX\u001b[0m\u001b[0;34m)\u001b[0m\u001b[0;34m\u001b[0m\u001b[0;34m\u001b[0m\u001b[0m\n\u001b[0m\u001b[1;32m   5610\u001b[0m         \u001b[0mim\u001b[0m\u001b[0;34m.\u001b[0m\u001b[0mset_alpha\u001b[0m\u001b[0;34m(\u001b[0m\u001b[0malpha\u001b[0m\u001b[0;34m)\u001b[0m\u001b[0;34m\u001b[0m\u001b[0;34m\u001b[0m\u001b[0m\n\u001b[1;32m   5611\u001b[0m         \u001b[0;32mif\u001b[0m \u001b[0mim\u001b[0m\u001b[0;34m.\u001b[0m\u001b[0mget_clip_path\u001b[0m\u001b[0;34m(\u001b[0m\u001b[0;34m)\u001b[0m \u001b[0;32mis\u001b[0m \u001b[0;32mNone\u001b[0m\u001b[0;34m:\u001b[0m\u001b[0;34m\u001b[0m\u001b[0;34m\u001b[0m\u001b[0m\n",
      "\u001b[0;32m~/anaconda3/envs/pm4ai/lib/python3.8/site-packages/matplotlib/image.py\u001b[0m in \u001b[0;36mset_data\u001b[0;34m(self, A)\u001b[0m\n\u001b[1;32m    707\u001b[0m         if not (self._A.ndim == 2\n\u001b[1;32m    708\u001b[0m                 or self._A.ndim == 3 and self._A.shape[-1] in [3, 4]):\n\u001b[0;32m--> 709\u001b[0;31m             raise TypeError(\"Invalid shape {} for image data\"\n\u001b[0m\u001b[1;32m    710\u001b[0m                             .format(self._A.shape))\n\u001b[1;32m    711\u001b[0m \u001b[0;34m\u001b[0m\u001b[0m\n",
      "\u001b[0;31mTypeError\u001b[0m: Invalid shape (1, 28, 28) for image data"
     ]
    },
    {
     "data": {
      "image/png": "[encoded data removed]",
      "text/plain": [
       "<Figure size 576x864 with 8 Axes>"
      ]
     },
     "metadata": {
      "needs_background": "light"
     },
     "output_type": "display_data"
    }
   ],
   "source": [
    "# Plots\n",
    "train_batch = next(iter(train_loader))\n",
    "# fig, ax = plt.subplots(1, 2, figsize=(8,12))\n",
    "fig, ax = plt.subplots(4, 2, figsize=(8,12))\n",
    "for i in range(4):\n",
    "    ax[i][0].imshow(train_batch[i][0])\n",
    "    ax[i][1].imshow(train_batch[i][1])"
   ]
  },
  {
   "cell_type": "code",
   "execution_count": null,
   "metadata": {
    "scrolled": true
   },
   "outputs": [],
   "source": [
    "#~ CHECKING EVERYTHING FITS CELL\n",
    "\n",
    "# get a batch\n",
    "train_batch = next(iter(train_loader))\n",
    "\n",
    "# masked images\n",
    "X = train_batch[0]\n",
    "# unmasked images\n",
    "y = train_batch[1]\n",
    "\n",
    "# print(X.shape)\n",
    "# print(y.shape)\n",
    "\n",
    "# ensure prediction works\n",
    "model = neural_net(dimensions)\n",
    "output = model(X)\n",
    "# print(output)\n",
    "\n",
    "print(f\"  OUTPUT SHAPE: {output.shape}\")\n",
    "print(f\"EXPECTED SHAPE: {y.shape}\")\n",
    "\n",
    "# ensure loss works\n",
    "criterion = nn.MSELoss()\n",
    "print(criterion(output[0], y[0]))\n",
    "print(criterion(output[1], y[0]))\n",
    "print(criterion(output[1], output[1]))\n",
    "\n",
    "# print(output[0])\n",
    "# print(y[0])\n",
    "\n"
   ]
  },
  {
   "cell_type": "code",
   "execution_count": null,
   "metadata": {},
   "outputs": [],
   "source": []
  },
  {
   "cell_type": "markdown",
   "metadata": {
    "id": "ufNOcBVs_rL4"
   },
   "source": [
    "### 2.6 Modify training and validation functions\n",
    "\n",
    "* Make the necessary modifications to the ``train`` and ``valid`` functions from the lecture to adapt to our reconstruction problem\n",
    "\n",
    "* Does prediction play a role in this problem?\n",
    "\n",
    "* Is accuracy a suitable metric?\n"
   ]
  },
  {
   "cell_type": "code",
   "execution_count": null,
   "metadata": {
    "id": "MTxUm11yQcrs"
   },
   "outputs": [],
   "source": []
  },
  {
   "cell_type": "code",
   "execution_count": null,
   "metadata": {
    "id": "1VZ0-VjbfltI"
   },
   "outputs": [],
   "source": [
    "\n"
   ]
  },
  {
   "cell_type": "code",
   "execution_count": 18,
   "metadata": {},
   "outputs": [],
   "source": [
    "# X_float = X.float()  # Convert X to a float data type\n",
    "# X_normalized = X_float / 255.0  # Normalize if X is in the range 0-255\n",
    "# X_reshaped = X_normalized.reshape(-1, 28*28)  # Reshape X as per your model's input requirement\n",
    "# output = model(X_reshaped)  # Now you can pass it to your model\n"
   ]
  },
  {
   "cell_type": "code",
   "execution_count": 22,
   "metadata": {
    "id": "2GXp7Hgi_rL4"
   },
   "outputs": [],
   "source": [
    "# Modify functions\n",
    "\n",
    "def train(model, optimizer, criterion, data_loader):\n",
    "    model.train()\n",
    "#     model = model.to(device)\n",
    "    model.to(device)\n",
    "    train_loss, train_accuracy = 0, 0\n",
    "    for i, (input, target) in enumerate(data_loader):\n",
    "        optimizer.zero_grad()\n",
    "        input, target = input.to(device), target.to(device)\n",
    "        output = model(input.reshape(-1,28,28))\n",
    "        loss = criterion(output, target)\n",
    "        loss.backward()\n",
    "        train_loss += loss*input.size(0)\n",
    "        optimizer.step()\n",
    "#         print(f\"loss = {loss}\")\n",
    "        if i % 100 == 0:\n",
    "            print(f\"{i}/{len(data_loader)}\")\n",
    "    train_loss = train_loss / len(data_loader.dataset)\n",
    "    return train_loss\n",
    "\n",
    "\n",
    "def validate(model, criterion, data_loader):\n",
    "    model.eval()\n",
    "#     model = model.to(device)\n",
    "    model.to(device)\n",
    "    valid_loss = 0\n",
    "    with torch.no_grad():\n",
    "        for i, (inputs, targets) in enumerate(data_loader):\n",
    "            inputs, targets = inputs.to(device), targets.to(device)\n",
    "\n",
    "            output = model(inputs)\n",
    "            loss = criterion(output, targets)\n",
    "#             print(f\"loss = {loss}\")\n",
    "            valid_loss += loss*inputs.size(0)\n",
    "\n",
    "            if i % 10 == 0:\n",
    "                print(f\"{i}/{len(data_loader)}\")\n",
    "        valid_loss = valid_loss / len(data_loader.dataset)\n",
    "        return valid_loss\n"
   ]
  },
  {
   "cell_type": "code",
   "execution_count": 23,
   "metadata": {},
   "outputs": [],
   "source": [
    "# test the train and validate functions\n",
    "\n",
    "# validate(model, \n",
    "#          criterion, \n",
    "#          val_loader)\n",
    "\n",
    "# train(model=model,\n",
    "#       optimizer=optimizer,\n",
    "#       criterion=criterion,\n",
    "#       data_loader=train_loader)"
   ]
  },
  {
   "cell_type": "code",
   "execution_count": null,
   "metadata": {},
   "outputs": [],
   "source": []
  },
  {
   "cell_type": "code",
   "execution_count": 24,
   "metadata": {
    "scrolled": false
   },
   "outputs": [
    {
     "data": {
      "image/png": "[encoded data removed]",
      "text/plain": [
       "<Figure size 864x576 with 2 Axes>"
      ]
     },
     "metadata": {
      "needs_background": "light"
     },
     "output_type": "display_data"
    },
    {
     "name": "stdout",
     "output_type": "stream",
     "text": [
      "log loss\n",
      "\ttraining         \t (min:    0.000, max:    0.000, cur:    0.000)\n",
      "\tvalidation       \t (min:    0.000, max:    0.000, cur:    0.000)\n"
     ]
    }
   ],
   "source": [
    "liveloss = PlotLosses()\n",
    "for epoch in range(1, 30):\n",
    "   \n",
    "    logs = {}\n",
    "    train_loss = train(model, optimizer, criterion, train_loader)    \n",
    "    validation_loss = validate(model, criterion, val_loader)\n",
    "    \n",
    "    logs['' + 'log loss'] = train_loss.item()\n",
    "    logs['val_' + 'log loss'] = validation_loss.item()\n",
    "\n",
    "    liveloss.update(logs)\n",
    "    liveloss.draw()\n",
    "#     print(validation_loss.item())\n"
   ]
  },
  {
   "cell_type": "code",
   "execution_count": null,
   "metadata": {
    "scrolled": true
   },
   "outputs": [],
   "source": [
    ":"
   ]
  },
  {
   "cell_type": "markdown",
   "metadata": {
    "id": "pMiovebI_rL4"
   },
   "source": [
    "### 2.7 Train and validate the model\n",
    "\n",
    "* Train your model\n",
    "\n",
    "* Visualise the output of a validation sample along training\n",
    "\n",
    "* At the end of training, plot the 32 reconstructed and target samples from a validation batch\n",
    "\n",
    "* What do you observe?\n",
    "\n",
    "* Are the results as expected?\n"
   ]
  },
  {
   "cell_type": "code",
   "execution_count": null,
   "metadata": {},
   "outputs": [],
   "source": [
    ":"
   ]
  },
  {
   "cell_type": "code",
   "execution_count": null,
   "metadata": {
    "id": "s82at41L_rL4"
   },
   "outputs": [],
   "source": [
    "# Train model\n"
   ]
  },
  {
   "cell_type": "code",
   "execution_count": null,
   "metadata": {
    "id": "aQ1EnssDjJs1"
   },
   "outputs": [],
   "source": [
    "# Plot recon and target from valid batch"
   ]
  },
  {
   "cell_type": "markdown",
   "metadata": {
    "id": "rH8LPdae_rL4"
   },
   "source": [
    "### 2.8 Save model to disk and load\n",
    "\n",
    "* ``Pytorch`` stores all the parameters of models and optimizers, their weights and biases in an easy to read dictionary called a \"state-dict\".\n",
    "\n",
    "* When we store models and optimizers, we store the state-dict.  \n",
    "\n",
    "* Together with the model definition we can then restore the model to it's state when we stored it to disk.\n",
    "\n",
    "* Let's look at the contents of the state-dict of both our optimizer and our model:"
   ]
  },
  {
   "cell_type": "code",
   "execution_count": null,
   "metadata": {
    "id": "r-xx9IMh_rL4"
   },
   "outputs": [],
   "source": [
    "# Print model's state_dict\n",
    "print(\"Model's state_dict:\")\n",
    "for param_tensor in model.state_dict():\n",
    "    print(param_tensor, \"\\t\", model.state_dict()[param_tensor].size())\n",
    "\n",
    "# Print optimiser's state_dict\n",
    "print(\"Optimiser's state_dict:\")\n",
    "for var_name in optimiser.state_dict():\n",
    "    print(var_name, \"\\t\", optimiser.state_dict()[var_name])\n"
   ]
  },
  {
   "cell_type": "markdown",
   "metadata": {
    "id": "rTJyPrbV_rL5"
   },
   "source": [
    "From colab (and locally) we can store models to disk using ```torch.save``` and passing both a models state_dict() and a path where to store it."
   ]
  },
  {
   "cell_type": "code",
   "execution_count": null,
   "metadata": {
    "id": "O0UVJSmK_rL5"
   },
   "outputs": [],
   "source": [
    "#!mkdir '/content/gdrive/My Drive/models'  ## create the director for storing the model in Google Drive\n",
    "\n",
    "model_save_name = 'chestmnist_simpleFFN_model.pt'           # .pt and .pth are common file extensions for saving models in pytorch\n",
    "path = F\"/content/gdrive/My Drive/models/{model_save_name}\" # use this to store in your Google Drive storage\n",
    "path = F'./{model_save_name}'                               # use this to store locally (it will be erased once the colab session is over)\n",
    "torch.save(model.state_dict(), path)\n",
    "\n",
    "optimiser_save_name = 'chestmnist_simpleFFN_optimiser.pt'\n",
    "path = F\"/content/gdrive/My Drive/models/{optimiser_save_name}\"\n",
    "path = F\"./{optimiser_save_name}\"\n",
    "torch.save(model.state_dict(), path)"
   ]
  },
  {
   "cell_type": "markdown",
   "metadata": {
    "id": "wz4ZRrXq_rL5"
   },
   "source": [
    "Finally, we can restore models from the saved ```state_dict```'s and do a number of things such as:\n",
    "1. Use it as a checkpoint and continue training (given we stored the optimizer as well)\n",
    "2. Make predictions from our model\n",
    "3. Perform inspections of our model\n",
    "4. Use our model in ensembles\n",
    "5. ...\n",
    "\n",
    "By default a loaded model is put into ```.train()``` mode. So be careful when using networks that behave different depending on training and test time e.g. dropout regularized networks or batch-normalized networks."
   ]
  },
  {
   "cell_type": "code",
   "execution_count": null,
   "metadata": {
    "id": "cG_13t8i_rL5"
   },
   "outputs": [],
   "source": [
    "# model_save_name = 'chestmnist_simpleFFN_model.pt'           # .pt and .pth are common file extensions for saving models in pytorch\n",
    "# path = F\"/content/gdrive/My Drive/models/{model_save_name}\" # use this to store in your Google Drive storage\n",
    "# path = F'./{model_save_name}'\n",
    "\n",
    "# model = simpleFFN(input_size= 1 * 28 * 28, hidden_size_1=150, hidden_size_2=50, hidden_size_3=50, hidden_size_4=150).to(device) ## creates an instance of the model\n",
    "# model.load_state_dict(torch.load(path)) ## loads the parameters of the model in path. state_dict is a dictionary object that maps each layer in the model to its trainable parameters (weights and biases).\n",
    "# model.eval()\n",
    "\n",
    "# valid_loss = valid(model, mseloss, valid_loader)\n",
    "# print(\"Avg. Valid Loss: %1.3f\" % valid_loss.item())"
   ]
  },
  {
   "cell_type": "markdown",
   "metadata": {
    "id": "uADu0Udo_rL5"
   },
   "source": [
    "### 2.8 Training with Unet\n",
    "\n",
    "* Instantiate a ``U-net`` using the snipped below.\n",
    "\n",
    "* For now you do not need to understand what a ``U-net`` is or how it works. This will be explored later in the course.\n",
    "\n",
    "* Print the summary of the model and have a look at what kind of layers it includes. Search for these layers in the ``Pytorch`` documentation to gain a general understanding of their operations.\n",
    "\n"
   ]
  },
  {
   "cell_type": "code",
   "execution_count": null,
   "metadata": {
    "id": "MRRtG8aM_rL5"
   },
   "outputs": [],
   "source": [
    "# from monai.networks.nets import UNet\n",
    "# set_seed(42)\n",
    "# model = UNet(spatial_dims=2, in_channels=1, out_channels=1, channels=(8, 8, 8), strides=(1, 1,), act=\"mish\").to(device)\n",
    "# summ = summary(model, input_size=(1, 28, 28))\n"
   ]
  },
  {
   "cell_type": "markdown",
   "metadata": {
    "id": "wvzwwRlWhwFl"
   },
   "source": [
    "* Train the model with the same hyperparameters from before. Don't forget to re-initialise the optimiser with the correct model parameters\n",
    "\n",
    "* As before, visualise some validation samples along training.\n",
    "\n",
    "* Plot 32 reconstructed and target samples from the validation batch\n",
    "\n",
    "* Save your final model\n",
    "\n",
    "* What differences do you observe from training with a simple feed-forward network? Why do you think that is?"
   ]
  },
  {
   "cell_type": "code",
   "execution_count": null,
   "metadata": {
    "id": "ekM5VEbsmn-r"
   },
   "outputs": [],
   "source": [
    "# Instantiate optimiser\n"
   ]
  },
  {
   "cell_type": "code",
   "execution_count": null,
   "metadata": {
    "id": "CyZggtJq_rL5"
   },
   "outputs": [],
   "source": [
    "# Train model\n"
   ]
  },
  {
   "cell_type": "code",
   "execution_count": null,
   "metadata": {
    "id": "TqzSyfiRjMT3"
   },
   "outputs": [],
   "source": [
    "# Plot recon and target from valid batch"
   ]
  },
  {
   "cell_type": "markdown",
   "metadata": {
    "id": "8Jg5novaU7b0"
   },
   "source": [
    "#### Save model"
   ]
  }
 ],
 "metadata": {
  "accelerator": "GPU",
  "colab": {
   "provenance": []
  },
  "gpuClass": "standard",
  "kernelspec": {
   "display_name": "Python 3",
   "language": "python",
   "name": "python3"
  },
  "language_info": {
   "codemirror_mode": {
    "name": "ipython",
    "version": 3
   },
   "file_extension": ".py",
   "mimetype": "text/x-python",
   "name": "python",
   "nbconvert_exporter": "python",
   "pygments_lexer": "ipython3",
   "version": "3.8.8"
  },
  "vscode": {
   "interpreter": {
    "hash": "b996dd704eec390d394e4eff83c8c73a7c6e40d054c583352c9aa3265aab441b"
   }
  }
 },
 "nbformat": 4,
 "nbformat_minor": 4
}
