{
 "cells": [
  {
   "cell_type": "code",
   "execution_count": 1,
   "id": "bbbda551",
   "metadata": {},
   "outputs": [],
   "source": [
    "import torch\n",
    "import torch.nn as nn\n",
    "import torch.optim as optim\n",
    "import torch.utils.data as data\n",
    "from torch.utils.data import Dataset, DataLoader\n",
    "import pandas as pd\n",
    "import numpy as np\n",
    "from sklearn.model_selection import train_test_split\n",
    "import matplotlib.pyplot as plt\n",
    "from sklearn.metrics import mean_squared_error\n",
    "from livelossplot import PlotLosses\n",
    "import torch\n",
    "# %pylab inline\n",
    "\n",
    "from sklearn.metrics import accuracy_score\n",
    "from sklearn.model_selection import StratifiedShuffleSplit\n",
    "from torchvision import transforms\n",
    "\n",
    "\n",
    "\n",
    "import torch\n",
    "import torch.nn as nn\n",
    "import torch.nn.functional as F\n",
    "from torch.utils.data import TensorDataset, DataLoader\n",
    "import torchvision.transforms as transforms\n",
    "from torchvision.datasets import MNIST\n",
    "# from torchsummary import summary"
   ]
  },
  {
   "cell_type": "code",
   "execution_count": 2,
   "id": "c0292527",
   "metadata": {},
   "outputs": [],
   "source": [
    "# # # standardise data\n",
    "\n",
    "def apply_standardization(X): # define an standardisation function\n",
    "#     X = X.astype(float)\n",
    "    X /= 255.\n",
    "    X -= 0.1307\n",
    "    X /= 0.3081\n",
    "    return X\n"
   ]
  },
  {
   "cell_type": "code",
   "execution_count": 3,
   "id": "a96b7b24",
   "metadata": {},
   "outputs": [
    {
     "name": "stdout",
     "output_type": "stream",
     "text": [
      "No GPU available!\n"
     ]
    }
   ],
   "source": [
    "import torch\n",
    "\n",
    "device = 'cpu'\n",
    "if torch.cuda.device_count() > 0 and torch.cuda.is_available():\n",
    "    print(\"Cuda installed! Running on GPU!\")\n",
    "    device = 'cuda'\n",
    "else:\n",
    "    print(\"No GPU available!\")\n",
    "    device = 'cpu'"
   ]
  },
  {
   "cell_type": "code",
   "execution_count": 4,
   "id": "e881a166",
   "metadata": {},
   "outputs": [],
   "source": [
    "from torch.utils.data import DataLoader, Subset, random_split\n",
    "# set up transforms for data\n",
    "transform = transforms.Compose([\n",
    "    transforms.ToTensor(),  # Converts a PIL Image or numpy.ndarray to a tensor.\n",
    "    \n",
    "    # Add any other transforms you might need, such as normalization.\n",
    "])\n",
    "\n",
    "# get (transformed) data\n",
    "from torchvision.datasets import MNIST\n",
    "mnist_train_val = MNIST(\"./\", download=True, train=True, transform=transform)\n",
    "\n",
    "mnist_test = MNIST(\"./\", download=True, train=False, transform=transform)\n",
    "mnist_train, mnist_val = random_split(mnist_train_val, [50_000, 10_000])\n"
   ]
  },
  {
   "cell_type": "code",
   "execution_count": 5,
   "id": "9a718968",
   "metadata": {
    "code_folding": []
   },
   "outputs": [],
   "source": [
    "# fit into dataloader objects\n",
    "batch_size = 1\n",
    "train_loader = data.DataLoader(\n",
    "    mnist_train, \n",
    "    batch_size=batch_size, \n",
    "    shuffle=True, \n",
    "    pin_memory=True)\n",
    "\n",
    "val_loader = data.DataLoader(\n",
    "    mnist_val, \n",
    "    batch_size=batch_size, \n",
    "    shuffle=True, \n",
    "    pin_memory=True)\n",
    "\n",
    "test_loader = data.DataLoader(\n",
    "    mnist_test, \n",
    "    batch_size=batch_size, \n",
    "    shuffle=True, \n",
    "    pin_memory=True)"
   ]
  },
  {
   "cell_type": "code",
   "execution_count": 6,
   "id": "b156a231",
   "metadata": {},
   "outputs": [],
   "source": [
    "batch_size = 16\n",
    "dimensions = [784, 200, 50, 10]\n",
    "lr = 1e-4\n",
    "momentum = 1e-4"
   ]
  },
  {
   "cell_type": "code",
   "execution_count": 7,
   "id": "88367f6f",
   "metadata": {},
   "outputs": [],
   "source": [
    "# todo: vectorize\n",
    "for loader in [train_loader, val_loader, test_loader]:\n",
    "    for image, label in loader:\n",
    "        image = apply_standardization(image)"
   ]
  },
  {
   "cell_type": "code",
   "execution_count": 8,
   "id": "d0db1821",
   "metadata": {
    "code_folding": [
     0,
     1,
     3,
     5
    ]
   },
   "outputs": [],
   "source": [
    "# split x/y\n",
    "# # # X_train = []\n",
    "# # # y_train = []\n",
    "# # # X_val = []\n",
    "# # # y_val = []\n",
    "# # # X_test = []\n",
    "# # # y_test = []\n",
    "    "
   ]
  },
  {
   "cell_type": "code",
   "execution_count": 9,
   "id": "57c05259",
   "metadata": {},
   "outputs": [],
   "source": [
    "train_loader = data.DataLoader(\n",
    "    mnist_train, \n",
    "    batch_size=batch_size, \n",
    "    shuffle=True, \n",
    "    pin_memory=True,)\n",
    "\n",
    "val_loader = data.DataLoader(\n",
    "    mnist_val, \n",
    "    batch_size=batch_size, \n",
    "    shuffle=True, \n",
    "    pin_memory=True)\n",
    "\n",
    "test_loader = data.DataLoader(\n",
    "    mnist_test, \n",
    "    batch_size=batch_size, \n",
    "    shuffle=True, \n",
    "    pin_memory=True)"
   ]
  },
  {
   "cell_type": "code",
   "execution_count": 10,
   "id": "09ab7bb8",
   "metadata": {
    "code_folding": []
   },
   "outputs": [],
   "source": [
    "# fit into dataloader objects\n",
    "train_loader = data.DataLoader(\n",
    "    mnist_train, \n",
    "    batch_size=batch_size, \n",
    "    shuffle=True, \n",
    "    pin_memory=True)\n",
    "\n",
    "val_loader = data.DataLoader(\n",
    "    mnist_val, \n",
    "    batch_size=batch_size, \n",
    "    shuffle=True, \n",
    "    pin_memory=True)\n",
    "\n",
    "test_loader = data.DataLoader(\n",
    "    mnist_test, \n",
    "    batch_size=batch_size, \n",
    "    shuffle=True, \n",
    "    pin_memory=True)"
   ]
  },
  {
   "cell_type": "code",
   "execution_count": 11,
   "id": "0cbab4c2",
   "metadata": {},
   "outputs": [],
   "source": [
    "class simpleFFN(nn.Module):\n",
    "    def __init__(self, dimensions):\n",
    "        super(simpleFFN, self).__init__()\n",
    "        # fully connected\n",
    "        self.fc1 = nn.Linear(dimensions[0], dimensions[1], bias=False)\n",
    "        self.fc2 = nn.Linear(dimensions[1], dimensions[2], bias=False)\n",
    "        self.fc3 = nn.Linear(dimensions[2], dimensions[-1], bias=False)\n",
    "        # activation functions/special\n",
    "        self.sigmoid = nn.Sigmoid()\n",
    "        self.tanh = nn.Tanh()\n",
    "        self.relu = nn.ReLU()\n",
    "        self.softmax = nn.Softmax()\n",
    "        self.dropout = nn.Dropout(0.5)\n",
    "\n",
    "    def forward(self, X):\n",
    "        out = self.fc1(X)\n",
    "        out = self.tanh(out)\n",
    "        out = self.fc2(out)\n",
    "        out = self.tanh(out)\n",
    "        out = self.fc3(out)\n",
    "        return out\n",
    "    \n",
    "def train(model, optimizer, criterion, data_loader):\n",
    "    model.train()                         # the model is in the training mode so the parameters(weights)to be optimised will be updated\n",
    "    train_loss, train_accuracy = 0, 0     # initialise loss and accuracy to 0 for training\n",
    "    for i, (X, y) in enumerate(data_loader):#np.array(data_loader):              # iterate over the mini-batches defined in the data loader\n",
    "        #\n",
    "#         X = np.array(X)\n",
    "#         y = np.array(y)\n",
    "        #\n",
    "        \n",
    "        X, y = X.to(device), y.to(device) # send data to the device (GPU in our case)\n",
    "        optimizer.zero_grad()             # resetting optimiser info\n",
    "        outputs = model(X.view(-1, 28*28))     # forward pass\n",
    "        loss = criterion(outputs, y)           # compute loss\n",
    "        loss.backward()                   # backpropagation to calculate the gradients\n",
    "        train_loss += loss*X.size(0)      # # add it up for different mini-batches and undo loss normalisation\n",
    "        # non functional\n",
    "        y_pred = F.log_softmax(outputs, dim=1).max(1)[1]  # get predictions\n",
    "        train_accuracy += accuracy_score(y.cpu().numpy(), y_pred.detach().cpu().numpy())*X.size(0) # compute accuracy\n",
    "        # non functional\n",
    "        optimizer.step()                  # perform a step of gradient descent\n",
    "        if i % 1000 == 0:\n",
    "            print(i)\n",
    "            \n",
    "    return train_loss/len(data_loader.dataset), train_accuracy/len(data_loader.dataset)  # here we can average over the whole dataset\n",
    "\n",
    "\n",
    "def validate(model, criterion, data_loader):      # does not need optimiser\n",
    "    model.eval()                                  # model is set to evaluation mode so no dropout or any other funny stuff here\n",
    "    validation_loss, validation_accuracy = 0., 0. # initialise loss and accuracy to 0 for training\n",
    "    for X, y in data_loader:                      # iterate over the mini-batches defined in the data loader\n",
    "        with torch.no_grad():                     # deactivates autograd engine\n",
    "            X, y = X.to(device), y.to(device)     # send data to the device (GPU in our case)\n",
    "            outputs = model(X.view(-1, 28*28))         # forward pass\n",
    "            loss = criterion(outputs, y)               # evaluate loss\n",
    "            validation_loss += loss*X.size(0)     # add it up for different mini-batches and undo loss normalisation\n",
    "            y_pred = F.log_softmax(outputs, dim=1).max(1)[1]  # get predictions\n",
    "            validation_accuracy += accuracy_score(y.cpu().numpy(), y_pred.cpu().numpy())*X.size(0) # compute accuracy\n",
    "\n",
    "    return validation_loss/len(data_loader.dataset), validation_accuracy/len(data_loader.dataset)  # here we can average over the whole dataset\n"
   ]
  },
  {
   "cell_type": "code",
   "execution_count": 12,
   "id": "07e54d29",
   "metadata": {},
   "outputs": [],
   "source": [
    "model = simpleFFN(dimensions).to(device)                                              # instantiate model and send it to the GPU\n",
    "# optimizer = torch.optim.SGD(model.parameters(), lr=lr, momentum=momentum)   # instantiate the optimizer\n",
    "optimizer = torch.optim.Adam(model.parameters())   # instantiate the optimizer\n",
    "loss_func = nn.CrossEntropyLoss()"
   ]
  },
  {
   "cell_type": "code",
   "execution_count": 13,
   "id": "6041571f",
   "metadata": {
    "code_folding": [
     0
    ]
   },
   "outputs": [],
   "source": [
    "# single epoch\n",
    "# train(model=model, \n",
    "#       optimizer=optimizer, \n",
    "#       criterion=loss_func, \n",
    "#       data_loader=train_loader)"
   ]
  },
  {
   "cell_type": "code",
   "execution_count": 14,
   "id": "a71bf3ea",
   "metadata": {},
   "outputs": [
    {
     "data": {
      "image/png": "[encoded data removed]",
      "text/plain": [
       "<Figure size 1200x800 with 2 Axes>"
      ]
     },
     "metadata": {},
     "output_type": "display_data"
    },
    {
     "name": "stdout",
     "output_type": "stream",
     "text": [
      "accuracy\n",
      "\ttraining         \t (min:    0.921, max:    0.990, cur:    0.990)\n",
      "\tvalidation       \t (min:    0.955, max:    0.973, cur:    0.971)\n",
      "log loss\n",
      "\ttraining         \t (min:    0.031, max:    0.277, cur:    0.031)\n",
      "\tvalidation       \t (min:    0.091, max:    0.152, cur:    0.102)\n",
      "0.10218186676502228\n"
     ]
    }
   ],
   "source": [
    "liveloss = PlotLosses()\n",
    "for epoch in range(1, 8):\n",
    "    \n",
    "    logs = {}\n",
    "    train_loss, train_accuracy = train(model, optimizer, loss_func, train_loader)\n",
    "\n",
    "    logs['' + 'log loss'] = train_loss.item()\n",
    "    logs['' + 'accuracy'] = train_accuracy.item()\n",
    "\n",
    "    validation_loss, validation_accuracy = validate(model, loss_func, val_loader)\n",
    "    logs['val_' + 'log loss'] = validation_loss.item()\n",
    "    logs['val_' + 'accuracy'] = validation_accuracy.item()\n",
    "\n",
    "    liveloss.update(logs)\n",
    "    liveloss.draw()\n",
    "    print(validation_loss.item())"
   ]
  },
  {
   "cell_type": "code",
   "execution_count": 15,
   "id": "e8e92639",
   "metadata": {
    "code_folding": []
   },
   "outputs": [
    {
     "data": {
      "text/plain": [
       "<matplotlib.image.AxesImage at 0x7fa5329d8790>"
      ]
     },
     "execution_count": 15,
     "metadata": {},
     "output_type": "execute_result"
    },
    {
     "data": {
      "image/png": "[encoded data removed]",
      "text/plain": [
       "<Figure size 640x480 with 1 Axes>"
      ]
     },
     "metadata": {},
     "output_type": "display_data"
    }
   ],
   "source": [
    "# testing model\n",
    "\n",
    "# # making an iterator\n",
    "train_loader_iter = iter(train_loader)\n",
    "# # plotting the first iter\n",
    "plt.imshow(next(train_loader_iter)[0][0].view(28,28))\n",
    "# # predicting a batch\n",
    "# model(next(train_loader_iter)[0].reshape(-1, 28*28,))"
   ]
  },
  {
   "cell_type": "code",
   "execution_count": 16,
   "id": "82a8f71c",
   "metadata": {},
   "outputs": [
    {
     "ename": "SyntaxError",
     "evalue": "invalid syntax (1305497275.py, line 1)",
     "output_type": "error",
     "traceback": [
      "\u001b[0;36m  Cell \u001b[0;32mIn[16], line 1\u001b[0;36m\u001b[0m\n\u001b[0;31m    :\u001b[0m\n\u001b[0m    ^\u001b[0m\n\u001b[0;31mSyntaxError\u001b[0m\u001b[0;31m:\u001b[0m invalid syntax\n"
     ]
    }
   ],
   "source": [
    ":"
   ]
  },
  {
   "cell_type": "code",
   "execution_count": null,
   "id": "3a477add",
   "metadata": {},
   "outputs": [],
   "source": [
    "validate(model, loss_func, test_loader)"
   ]
  },
  {
   "cell_type": "code",
   "execution_count": null,
   "id": "ca7294b7",
   "metadata": {},
   "outputs": [],
   "source": [
    "def get_all_preds(model, criterion, data_loader):\n",
    "    \n",
    "    predictions = []\n",
    "    labels = []\n",
    "    \n",
    "    model.eval()                                  # model is set to evaluation mode so no dropout or any other funny stuff here\n",
    "    validation_loss, validation_accuracy = 0., 0. # initialise loss and accuracy to 0 for training\n",
    "    for X, y in data_loader:                      # iterate over the mini-batches defined in the data loader\n",
    "        with torch.no_grad():                     # deactivates autograd engine\n",
    "            X, y = X.to(device), y.to(device)     # send data to the device (GPU in our case)\n",
    "            outputs = model(X.view(-1, 28*28))         # forward pass\n",
    "            loss = criterion(outputs, y)               # evaluate loss\n",
    "            y_pred = F.log_softmax(outputs, dim=1).max(1)[1]  # get predictions\n",
    "            labels.append(y.cpu().numpy())\n",
    "            predictions.append(y_pred.cpu().numpy())\n",
    "    return list(np.array([list(i) for i in labels]).reshape(-1)), list(np.array([list(i) for i in predictions]).reshape(-1))"
   ]
  },
  {
   "cell_type": "code",
   "execution_count": null,
   "id": "0fbe13a5",
   "metadata": {},
   "outputs": [],
   "source": [
    "acc, pred = get_all_preds(model, loss_func, test_loader)"
   ]
  },
  {
   "cell_type": "code",
   "execution_count": null,
   "id": "75c0fc38",
   "metadata": {},
   "outputs": [],
   "source": [
    "accuracy_score(acc, pred)"
   ]
  },
  {
   "cell_type": "code",
   "execution_count": null,
   "id": "ef6aac90",
   "metadata": {},
   "outputs": [],
   "source": []
  },
  {
   "cell_type": "code",
   "execution_count": null,
   "id": "11e408cd",
   "metadata": {},
   "outputs": [],
   "source": []
  },
  {
   "cell_type": "code",
   "execution_count": null,
   "id": "a47ea2b2",
   "metadata": {},
   "outputs": [],
   "source": []
  },
  {
   "cell_type": "code",
   "execution_count": null,
   "id": "ab07bcaa",
   "metadata": {},
   "outputs": [],
   "source": []
  },
  {
   "cell_type": "code",
   "execution_count": null,
   "id": "1c7b99d6",
   "metadata": {},
   "outputs": [],
   "source": []
  },
  {
   "cell_type": "code",
   "execution_count": null,
   "id": "8602e689",
   "metadata": {},
   "outputs": [],
   "source": []
  },
  {
   "cell_type": "code",
   "execution_count": null,
   "id": "eb830b58",
   "metadata": {},
   "outputs": [],
   "source": []
  },
  {
   "cell_type": "code",
   "execution_count": null,
   "id": "802d8bb8",
   "metadata": {},
   "outputs": [],
   "source": []
  },
  {
   "cell_type": "code",
   "execution_count": null,
   "id": "63e4fa8c",
   "metadata": {},
   "outputs": [],
   "source": [
    "# [item for sublist in pred for item in sublist]"
   ]
  },
  {
   "cell_type": "code",
   "execution_count": null,
   "id": "115b967b",
   "metadata": {},
   "outputs": [],
   "source": []
  },
  {
   "cell_type": "code",
   "execution_count": null,
   "id": "730f8edb",
   "metadata": {},
   "outputs": [],
   "source": []
  },
  {
   "cell_type": "code",
   "execution_count": null,
   "id": "99391270",
   "metadata": {},
   "outputs": [],
   "source": []
  }
 ],
 "metadata": {
  "kernelspec": {
   "display_name": "Python 3 (ipykernel)",
   "language": "python",
   "name": "python3"
  },
  "language_info": {
   "codemirror_mode": {
    "name": "ipython",
    "version": 3
   },
   "file_extension": ".py",
   "mimetype": "text/x-python",
   "name": "python",
   "nbconvert_exporter": "python",
   "pygments_lexer": "ipython3",
   "version": "3.11.5"
  }
 },
 "nbformat": 4,
 "nbformat_minor": 5
}
