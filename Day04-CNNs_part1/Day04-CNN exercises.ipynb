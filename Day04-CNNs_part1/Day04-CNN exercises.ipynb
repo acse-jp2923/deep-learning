{
 "cells": [
  {
   "cell_type": "markdown",
   "metadata": {
    "id": "9YehS8enAmDn"
   },
   "source": [
    "<img src=\"https://drive.google.com/uc?id=1DvKhAzLtk-Hilu7Le73WAOz2EBR5d41G\" width=\"500\"/>\n",
    "\n",
    "---\n"
   ]
  },
  {
   "cell_type": "markdown",
   "metadata": {
    "id": "JgF-9hCV7x33"
   },
   "source": [
    "# **CNNs: convolutional neural networks**\n",
    "\n",
    "\n",
    "#### **Morning contents/agenda**\n",
    "\n",
    "1. What are convolutions?\n",
    "\n",
    "2. How do we use them? (`Torch` layer operations)\n",
    "\n",
    "3. Visual roadmap of a CNN\n",
    "\n",
    "4. Implementation of a network similar to LeNet5\n",
    "\n",
    "5. Training our LeNet5-like network on `FasionMNIST`\n",
    "\n",
    "\n",
    "#### **Learning outcomes**\n",
    "\n",
    "1. Have a clear idea of how convolutions work\n",
    "\n",
    "2. Understand the parameters trained in a CNN\n",
    "\n",
    "3. CNN architectures and combinations with other types of layers\n",
    "\n",
    "4. Implementation of  asimple CNN in `PyTorch`\n",
    "\n",
    "<br>\n",
    "\n",
    "#### **Afternoon contents/agenda**\n",
    "\n",
    "1. Dropout and batch normalisation\n",
    "\n",
    "2. Training with data augmentation\n",
    "\n",
    "#### **Learning outcomes**\n",
    "\n",
    "1. Implement dropout and batchnorm layers in `PyTorch`\n",
    "\n",
    "2. Perform data augmentations and understand its effects\n",
    "\n",
    "\n",
    "<br/>\n",
    "\n",
    "---\n",
    "\n",
    "<br/>"
   ]
  },
  {
   "cell_type": "code",
   "execution_count": 1,
   "metadata": {
    "id": "OmWrPqcDCp2d"
   },
   "outputs": [],
   "source": [
    "def apply_standardization(X): # define an standardisation function\n",
    "    X /= 255.\n",
    "    \n",
    "    mean = 0.1307\n",
    "    std = 0.3081\n",
    "    X = (X - mean) / std\n",
    "    return X"
   ]
  },
  {
   "cell_type": "code",
   "execution_count": 2,
   "metadata": {
    "id": "K61HwZdSCp8V"
   },
   "outputs": [
    {
     "name": "stdout",
     "output_type": "stream",
     "text": [
      "Requirement already satisfied: pycm==4.0 in /home/javonne/anaconda3/envs/pm4ai/lib/python3.8/site-packages (4.0)\r\n",
      "Requirement already satisfied: numpy>=1.9.0 in /home/javonne/anaconda3/envs/pm4ai/lib/python3.8/site-packages (from pycm==4.0) (1.19.5)\r\n",
      "Requirement already satisfied: art>=1.8 in /home/javonne/anaconda3/envs/pm4ai/lib/python3.8/site-packages (from pycm==4.0) (6.1)\r\n"
     ]
    }
   ],
   "source": [
    "!pip install pycm==4.0"
   ]
  },
  {
   "cell_type": "code",
   "execution_count": 3,
   "metadata": {
    "id": "_kYki018eTFJ"
   },
   "outputs": [
    {
     "name": "stdout",
     "output_type": "stream",
     "text": [
      "Populating the interactive namespace from numpy and matplotlib\n"
     ]
    }
   ],
   "source": [
    "# !pip install pycm livelossplot\n",
    "# !pip install torchsummary\n",
    "\n",
    "%pylab inline\n",
    "\n",
    "from sklearn.metrics import accuracy_score\n",
    "from sklearn.model_selection import StratifiedShuffleSplit\n",
    "\n",
    "from livelossplot import PlotLosses\n",
    "# from pycm import *\n",
    "\n",
    "import torch\n",
    "import torch.nn as nn\n",
    "import torch.nn.functional as F\n",
    "from torch.utils.data import TensorDataset, DataLoader\n",
    "import torchvision.datasets\n",
    "import torchvision.transforms as transforms\n",
    "from torchvision.datasets import MNIST\n",
    "# from torchsummary import summary"
   ]
  },
  {
   "cell_type": "code",
   "execution_count": 4,
   "metadata": {
    "id": "LI8sNA9feT3H"
   },
   "outputs": [
    {
     "name": "stdout",
     "output_type": "stream",
     "text": [
      "Cuda installed! Running on GPU!\n"
     ]
    }
   ],
   "source": [
    "def set_seed(seed):\n",
    "    \"\"\"\n",
    "    Use this to set ALL the random seeds to a fixed value and take out any randomness from cuda kernels\n",
    "    \"\"\"\n",
    "    random.seed(seed)\n",
    "    np.random.seed(seed)\n",
    "    torch.manual_seed(seed)\n",
    "    torch.cuda.manual_seed_all(seed)\n",
    "\n",
    "    torch.backends.cudnn.benchmark = False  ##uses the inbuilt cudnn auto-tuner to find the fastest convolution algorithms. -\n",
    "    torch.backends.cudnn.enabled   = False\n",
    "\n",
    "    return True\n",
    "\n",
    "device = 'cpu'\n",
    "if torch.cuda.device_count() > 0 and torch.cuda.is_available():\n",
    "    print(\"Cuda installed! Running on GPU!\")\n",
    "    device = 'cuda'\n",
    "else:\n",
    "    print(\"No GPU available!\")"
   ]
  },
  {
   "cell_type": "markdown",
   "metadata": {
    "id": "8CRenRypN6yH"
   },
   "source": [
    "## 1. Dropout and batch normalisation\n",
    "\n",
    "Modify your LeNet-5 network to include dropout and batch normalisation\n",
    "\n",
    "Only run the final training (with all the training data, no splits) with all the data and compare the accuracy and loss values with the network we trained this morning without dropout or batch normalisation."
   ]
  },
  {
   "cell_type": "code",
   "execution_count": 5,
   "metadata": {
    "id": "_DQSI5mVOHqi"
   },
   "outputs": [],
   "source": [
    "class LeNet5drbn(nn.Module):\n",
    "  def __init__(self):\n",
    "    super(LeNet5drbn, self).__init__()\n",
    "    self.c1 = nn.Conv2d(1, 6, kernel_size=5, stride=1, padding=2) # define a 2D convolutional layer\n",
    "    self.s2 = nn.MaxPool2d(kernel_size=2, stride=2)               # define a maxpool layer\n",
    "    self.s2_bn = nn.BatchNorm2d(6)\n",
    "    # self.s2_dr = nn.Dropout2d(p=0.2)\n",
    "    self.c3 = nn.Conv2d(6, 16, kernel_size=5, stride=1)           # new 2D convolutional layer\n",
    "    # self.c3_bn = nn.BatchNorm2d(16)\n",
    "    self.c3_dr = nn.Dropout2d(p=0.5)\n",
    "    self.s4 = nn.MaxPool2d(kernel_size=2, stride=2)               # another maxpool layer\n",
    "    self.c5 = nn.Linear(16*5*5, 120)                              # first linear layer\n",
    "    self.f6 = nn.Linear(120, 84)                                  # second linear layer\n",
    "    self.output = nn.Linear(84, 10)                               # final output layer\n",
    "    self.act = nn.ReLU()                                          # activation function\n",
    "\n",
    "  def forward(self, x):\n",
    "    x = self.act(self.c1(x))                                      # activate pass through the first layer\n",
    "    x = self.act(self.s2_bn(self.s2(x)))                                      # activate pass through the second layer\n",
    "    # x = self.s2_dr(x)                                      # activate pass through the second layer\n",
    "    # x = self.act(self.c3_bn(self.c3(x)))                                      # activate pass through the third layer\n",
    "    x = self.act(self.c3(x))\n",
    "    x = self.c3_dr(x)\n",
    "    x = self.act(self.s4(x))                                      # activate pass through the fourth layer\n",
    "    x = x.view(-1, x.size(1)*x.size(2)*x.size(3))                 # flatten (return a \"flattened\" view of the 3d tensor as inputs for the fully connected layer)\n",
    "    x = self.act(self.c5(x))                                     # activate pass through fifth layer\n",
    "    x = self.act(self.f6(x))                                      # activate pass through last layer\n",
    "    return self.output(x)                                         # return output\n",
    "\n",
    "# x = torch.randn((4, 1, 28, 28)).to(device)\n",
    "# model = LeNet5drbn().to(device)\n",
    "# y = model(x)\n",
    "# print(y)\n",
    "# print(model)\n",
    "# summary(model, (1, 28, 28))"
   ]
  },
  {
   "cell_type": "code",
   "execution_count": 6,
   "metadata": {
    "id": "Ba3ZEvLZND8k"
   },
   "outputs": [
    {
     "name": "stderr",
     "output_type": "stream",
     "text": [
      "/home/javonne/anaconda3/envs/pm4ai/lib/python3.8/site-packages/torchvision/datasets/mnist.py:498: UserWarning: The given NumPy array is not writeable, and PyTorch does not support non-writeable tensors. This means you can write to the underlying (supposedly non-writeable) NumPy array using the tensor. You may want to copy the array to protect its data or make it writeable before converting it to a tensor. This type of warning will be suppressed for the rest of this program. (Triggered internally at  /pytorch/torch/csrc/utils/tensor_numpy.cpp:180.)\n",
      "  return torch.from_numpy(parsed.astype(m[2], copy=False)).view(*s)\n"
     ]
    }
   ],
   "source": [
    "import torch\n",
    "from torch.utils.data import Dataset\n",
    "from torchvision import datasets\n",
    "from torchvision.datasets import MNIST\n",
    "from torchvision.transforms import ToTensor\n",
    "import matplotlib.pyplot as plt\n",
    "\n",
    "mnist_train = datasets.MNIST(\n",
    "    root=\"data\",\n",
    "    train=True,\n",
    "    download=True,\n",
    "    transform=ToTensor()\n",
    ")\n",
    "mnist_test =  datasets.MNIST(\n",
    "    root=\"data\",\n",
    "    train=False,\n",
    "    download=True,\n",
    "    transform=ToTensor()\n",
    ")"
   ]
  },
  {
   "cell_type": "markdown",
   "metadata": {
    "id": "Lndb4nqhOFcF"
   },
   "source": [
    "Instantiate and create a ```StratifiedShuffleSplit``` using sklearn.\n",
    "1. Create a ```sklearn.model_selection.StratifiedShuffleSplit``` object with 1-split and a test-size of 10%.\n",
    "2. Get the training and validation indices from the shuffel-split"
   ]
  },
  {
   "cell_type": "code",
   "execution_count": 7,
   "metadata": {},
   "outputs": [],
   "source": [
    "from sklearn.model_selection import StratifiedShuffleSplit\n",
    "shuffler = StratifiedShuffleSplit(n_splits=1, test_size=0.1, random_state=42).split(mnist_train.data, mnist_train.targets)\n",
    "# gives you n, n-1 random ids that correspond to test and train subsets\n",
    "# n is the train proportion \n",
    "train_idxs, valid_idxs = [(train_idx, valid_idx) for train_idx, valid_idx in shuffler][0]"
   ]
  },
  {
   "cell_type": "markdown",
   "metadata": {
    "id": "lSXLG4ksOUxR"
   },
   "source": [
    "Standardise and split the MNIST dataset:\n",
    "\n",
    "The original MNIST data is given in gray-scale values between 0 and 255.\n",
    "You will need to write a normalisation method that takes in a ```torch.Tensor``` and performs normalisation.\n",
    "The mean of MNIST is 0.1307 and it's standard deviation is 0.3081 (after division by 255)."
   ]
  },
  {
   "cell_type": "code",
   "execution_count": 8,
   "metadata": {},
   "outputs": [],
   "source": [
    "# standardise the data\n",
    "X_train, y_train = apply_standardization(mnist_train.data[train_idxs].float()), mnist_train.targets[train_idxs]\n",
    "X_val, y_val =     apply_standardization(mnist_train.data[valid_idxs].float()), mnist_train.targets[valid_idxs]\n",
    "X_test, y_test =   apply_standardization(mnist_test.data.float()), mnist_test.targets\n",
    "# # standardise the data\n",
    "# X_train, y_train = apply_standardization(mnist_train.train_data[train_idxs].float()), mnist_train.train_labels[train_idxs]\n",
    "# X_val, y_val =     apply_standardization(mnist_train.train_data[valid_idxs].float()), mnist_train.train_labels[valid_idxs]\n",
    "# X_test, y_test =   apply_standardization(mnist_test.test_data.float()), mnist_test.test_labels"
   ]
  },
  {
   "cell_type": "code",
   "execution_count": null,
   "metadata": {
    "id": "NpRWm3ByOUMq"
   },
   "outputs": [],
   "source": []
  },
  {
   "cell_type": "markdown",
   "metadata": {
    "id": "bDeXtYyxPhpr"
   },
   "source": [
    "Instantiate a ```torch.utils.data.TensorDataset``` for training, validation and test data:\n",
    "\n",
    "Remember that we use TensorDataset to be able to operate on the dataset without having to load it all in memory.\n",
    "\n",
    "And remember that torch likes all categorical data to be in a ```.long()``` format."
   ]
  },
  {
   "cell_type": "code",
   "execution_count": 9,
   "metadata": {
    "id": "aiNJegkdPcZw"
   },
   "outputs": [],
   "source": [
    "from torch.utils.data import TensorDataset\n",
    "# create the TensorDatasets containing mnist_train, mnist_validate, and mnist_test\n",
    "mnist_train =    TensorDataset(X_train, y_train.long())\n",
    "mnist_validate = TensorDataset(X_val, y_val.long())\n",
    "mnist_test =     TensorDataset(X_test, y_test.long())"
   ]
  },
  {
   "cell_type": "code",
   "execution_count": null,
   "metadata": {},
   "outputs": [],
   "source": []
  },
  {
   "cell_type": "code",
   "execution_count": 10,
   "metadata": {},
   "outputs": [],
   "source": [
    "# #~ CHECKING EVERYTHING FITS CELL\n",
    "\n",
    "# # make your loader\n",
    "# train_loader = DataLoader(\n",
    "#     mnist_train,\n",
    "#     batch_size=4,\n",
    "#     shuffle=True,\n",
    "#     pin_memory=True,)\n",
    "\n",
    "# # get a batch\n",
    "# train_batch = next(iter(train_loader))\n",
    "\n",
    "# # masked images\n",
    "# X = torch.Tensor(train_batch[0]).reshape(-1,1,28,28)\n",
    "# # unmasked images\n",
    "# y = torch.Tensor(train_batch[1].float())\n",
    "\n",
    "# print(f\"X.shape = {X.shape}\")\n",
    "# print(f\"y.shape = {y.shape}\")\n",
    "# # ensure prediction works\n",
    "# model = LeNet5drbn()\n",
    "# output = model(X)\n",
    "\n",
    "# print(f\"  OUTPUT SHAPE: {output.shape}\")\n",
    "# print(f\"EXPECTED SHAPE: {y.shape}\")\n",
    "\n",
    "# # ensure loss works\n",
    "# criterion = nn.CrossEntropyLoss()\n",
    "# y = y.long()\n",
    "# print(criterion(output, y))\n"
   ]
  },
  {
   "cell_type": "code",
   "execution_count": null,
   "metadata": {},
   "outputs": [],
   "source": []
  },
  {
   "cell_type": "code",
   "execution_count": null,
   "metadata": {},
   "outputs": [],
   "source": []
  },
  {
   "cell_type": "code",
   "execution_count": null,
   "metadata": {},
   "outputs": [],
   "source": []
  },
  {
   "cell_type": "code",
   "execution_count": null,
   "metadata": {},
   "outputs": [],
   "source": []
  },
  {
   "cell_type": "code",
   "execution_count": null,
   "metadata": {},
   "outputs": [],
   "source": []
  },
  {
   "cell_type": "code",
   "execution_count": null,
   "metadata": {},
   "outputs": [],
   "source": []
  },
  {
   "cell_type": "code",
   "execution_count": null,
   "metadata": {},
   "outputs": [],
   "source": []
  },
  {
   "cell_type": "code",
   "execution_count": null,
   "metadata": {},
   "outputs": [],
   "source": []
  },
  {
   "cell_type": "code",
   "execution_count": null,
   "metadata": {},
   "outputs": [],
   "source": []
  },
  {
   "cell_type": "markdown",
   "metadata": {
    "id": "t4v_90F-XALf"
   },
   "source": [
    "### Provided Train, Validation and Evaluate Functions\n",
    "\n",
    "There is an error in these functions. Can you spot it?"
   ]
  },
  {
   "cell_type": "code",
   "execution_count": 17,
   "metadata": {
    "id": "eF6ACgGlPuJg"
   },
   "outputs": [],
   "source": [
    "def train(model, optimizer, criterion, data_loader):\n",
    "    model.train()##\n",
    "    ### set the model to train\n",
    "    model.to(device)\n",
    "    train_loss, train_accuracy = 0, 0\n",
    "    for X, y in data_loader:\n",
    "        \n",
    "        X, y = X.to(device), y.to(device)\n",
    "#         print(X.view(-1, 1, 28, 28).shape)\n",
    "#         X = X.view(-1, 1, 28, 28)\n",
    "#         outputs = model(X)\n",
    "        optimizer.zero_grad()\n",
    "        outputs = model(X.view(-1, 1, 28, 28))\n",
    "        \n",
    "        loss = criterion(outputs, y)\n",
    "        loss.backward()##\n",
    "        train_loss += loss*y.size(0)\n",
    "        y_pred = F.log_softmax(outputs, dim=1).max(1)[1]##\n",
    "        train_accuracy += accuracy_score(\n",
    "            y.cpu().numpy(), \n",
    "            y_pred.detach().cpu().numpy())*X.size(0) ##\n",
    "\n",
    "        optimizer.step()\n",
    "        ### your code goes here\n",
    "    \n",
    "    # loss, acc\n",
    "    return train_loss/len(data_loader.dataset), train_accuracy/len(data_loader.dataset)\n",
    "\n",
    "\n",
    "def validate(model, criterion, data_loader):\n",
    "    ### set the model to evaluate\n",
    "    validation_loss, validation_accuracy = 0, 0\n",
    "    for X, y in data_loader:\n",
    "        with torch.no_grad():\n",
    "            X, y = X.to(device), y.to(device)\n",
    "            outputs = model(X.view(-1, 1, 28, 28))\n",
    "            loss = criterion(outputs, y)\n",
    "            validation_loss += loss*y.size(0)\n",
    "            y_pred = F.log_softmax(outputs, dim=1).max(1)[1]##\n",
    "            validation_accuracy += accuracy_score(\n",
    "                y.cpu().numpy(), \n",
    "                y_pred.detach().cpu().numpy())*X.size(0) ##\n",
    "\n",
    "            \n",
    "\n",
    "\n",
    "    return validation_loss/len(data_loader.dataset), validation_accuracy/len(data_loader.dataset)\n",
    "\n",
    "\n",
    "def evaluate(model, data_loader):\n",
    "    ### set the model to evaluate\n",
    "    ys, y_preds = [], []\n",
    "    model.to(device)\n",
    "    for X, y in data_loader:\n",
    "        with torch.no_grad():\n",
    "\n",
    "            X, y = X.to(device), y.to(device)\n",
    "            outputs = model(X.view(-1, 1, 28, 28))\n",
    "            y_pred = F.log_softmax(outputs, dim=1).max(1)[1]\n",
    "            y_preds.append(y_pred.cpu().numpy())\n",
    "            ys.append(y.cpu().numpy())\n",
    "\n",
    "\n",
    "    return np.concatenate(y_preds, 0),  np.concatenate(ys, 0)"
   ]
  },
  {
   "cell_type": "markdown",
   "metadata": {
    "id": "alGiYGXzYDqY"
   },
   "source": [
    "### Set the hyperparameters of your model\n",
    "\n",
    "- Seed: 42\n",
    "- learning rate: 1e-2\n",
    "- Optimizer: SGD\n",
    "- momentum: 0.9\n",
    "- Number of Epochs: 30\n",
    "- Batchsize: 64\n",
    "- Test Batch Size (no effect on training apart from time): 1000\n",
    "- Shuffle the training set every epoch: Yes"
   ]
  },
  {
   "cell_type": "code",
   "execution_count": 12,
   "metadata": {
    "id": "u7UXTrQTX9-i"
   },
   "outputs": [],
   "source": [
    "seed = 42\n",
    "lr = 1e-2\n",
    "momentum = 0.9\n",
    "batch_size = 64\n",
    "test_batch_size = 1000\n",
    "n_epochs = 30"
   ]
  },
  {
   "cell_type": "markdown",
   "metadata": {
    "id": "xmSrFBryYHNG"
   },
   "source": [
    "### Perform the training of the network and validation\n",
    "\n",
    "- Instantiate our model, optimizer and loss function\n",
    "- Set the random number generator seed using ```set_seed``` to make everything reproducible.\n",
    "- Use a sensible loss (criterion) for the multi-class classification problem."
   ]
  },
  {
   "cell_type": "code",
   "execution_count": 13,
   "metadata": {
    "id": "kJ6Xr5acYvsi"
   },
   "outputs": [
    {
     "data": {
      "image/png": "[encoded data removed]",
      "text/plain": [
       "<Figure size 864x576 with 2 Axes>"
      ]
     },
     "metadata": {
      "needs_background": "light"
     },
     "output_type": "display_data"
    },
    {
     "name": "stdout",
     "output_type": "stream",
     "text": [
      "accuracy\n",
      "\ttraining         \t (min:    0.757, max:    0.989, cur:    0.989)\n",
      "\tvalidation       \t (min:    0.932, max:    0.983, cur:    0.979)\n",
      "log loss\n",
      "\ttraining         \t (min:    0.035, max:    0.792, cur:    0.036)\n",
      "\tvalidation       \t (min:    0.062, max:    0.242, cur:    0.064)\n"
     ]
    }
   ],
   "source": [
    "def train_model(momentum):\n",
    "    set_seed(seed)\n",
    "    model = LeNet5drbn().to(device)\n",
    "\n",
    "    optimizer = optimizer = torch.optim.SGD(model.parameters(), lr=lr,momentum=momentum)\n",
    "    criterion = nn.CrossEntropyLoss()\n",
    "\n",
    "    train_loader = DataLoader(\n",
    "        mnist_train,\n",
    "        batch_size=batch_size,\n",
    "        shuffle=True,\n",
    "        pin_memory=False, \n",
    "        num_workers=0,)\n",
    "    \n",
    "    validation_loader = DataLoader(\n",
    "        mnist_validate,\n",
    "        batch_size=test_batch_size,\n",
    "        shuffle=False,\n",
    "        pin_memory=False, \n",
    "        num_workers=0,)\n",
    "    \n",
    "    test_loader = DataLoader(\n",
    "        mnist_test,\n",
    "        batch_size=test_batch_size,\n",
    "        shuffle=True,\n",
    "        pin_memory=False, \n",
    "        num_workers=0,)\n",
    "\n",
    "    liveloss = PlotLosses()\n",
    "    for epoch in range(30):\n",
    "        logs = {}\n",
    "        train_loss, train_accuracy = train(model, optimizer, criterion, train_loader)\n",
    "\n",
    "        logs['' + 'log loss'] = train_loss.item()\n",
    "        logs['' + 'accuracy'] = train_accuracy.item()\n",
    "\n",
    "        validation_loss, validation_accuracy = validate(model, criterion, validation_loader)\n",
    "        logs['val_' + 'log loss'] = validation_loss.item()\n",
    "        logs['val_' + 'accuracy'] = validation_accuracy.item()\n",
    "\n",
    "        liveloss.update(logs)\n",
    "        liveloss.draw()\n",
    "\n",
    "    return model\n",
    "\n",
    "model = train_model(momentum = 0.5)"
   ]
  },
  {
   "cell_type": "markdown",
   "metadata": {
    "id": "hrBcU1Edcwij"
   },
   "source": [
    "### Use the evaluation function defined above to make predictions.\n",
    "\n",
    "This method performs the same as validate but doesn't report losses, but simply returns all predictions on a given dataset (training, validation, test-set)"
   ]
  },
  {
   "cell_type": "code",
   "execution_count": 18,
   "metadata": {
    "id": "nWkXr0EvY0JR"
   },
   "outputs": [],
   "source": [
    "validation_loader = DataLoader(mnist_validate, batch_size=test_batch_size, shuffle=False, num_workers=0) # create a validation_loader\n",
    "y_pred, y_gt = evaluate(model, validation_loader) # generate predictions and ground truths by evaluating the model"
   ]
  },
  {
   "cell_type": "code",
   "execution_count": 19,
   "metadata": {
    "id": "fWavLY-Ic2Cs"
   },
   "outputs": [
    {
     "data": {
      "image/png": "[encoded data removed]",
      "text/plain": [
       "<Figure size 432x432 with 1 Axes>"
      ]
     },
     "metadata": {
      "needs_background": "light"
     },
     "output_type": "display_data"
    }
   ],
   "source": [
    "from sklearn.metrics import ConfusionMatrixDisplay\n",
    "\n",
    "fig, ax = plt.subplots(figsize=(6,6))\n",
    "ConfusionMatrixDisplay.from_predictions(y_gt, y_pred, ax=ax, colorbar=False, cmap='bone_r')\n",
    "plt.show()"
   ]
  },
  {
   "cell_type": "markdown",
   "metadata": {
    "id": "poGNyBmUYYXL"
   },
   "source": [
    "<br>\n",
    "\n",
    "---\n",
    "\n",
    "<br>"
   ]
  },
  {
   "cell_type": "code",
   "execution_count": null,
   "metadata": {},
   "outputs": [],
   "source": [
    ":"
   ]
  },
  {
   "cell_type": "markdown",
   "metadata": {
    "id": "S1a8D_LPYbSB"
   },
   "source": [
    "## 2. Training with data augmentation\n",
    "\n",
    "\n",
    "Reminder of Custom Datasets and Transforms (from Debbie's lectures):\n",
    "\n",
    "Pytorch allows us to simply extend the available Datasets to more custom functionality. Here we provide an example of such a custom dataset class. You can see that there are 3 functions we need to implement:\n",
    "\n",
    "- init(args, *kwargs): this will handle everything prior to actually using the dataset\n",
    "- len(self): returns the length of the dataset i.e. the number of data items\n",
    "- getitem(self, idx): this method takes an index of a specific data item and returns that item:\n",
    "  - you can do whatever you want in these functions: apply transforms, normalize data, perform another computation, etc.\n",
    "  - here we also have the functionality to apply a set of [torchvision.transforms](https://pytorch.org/tutorials/beginner/data_loading_tutorial.\n",
    "\n"
   ]
  },
  {
   "cell_type": "markdown",
   "metadata": {
    "id": "R6NUgmanbdxA"
   },
   "source": [
    "Define a custom image TensorDataset:"
   ]
  },
  {
   "cell_type": "code",
   "execution_count": null,
   "metadata": {
    "id": "y_ktXAzfWOwX"
   },
   "outputs": [],
   "source": [
    "from torch.utils.data import Dataset\n",
    "\n",
    "class CustomImageTensorDataset(Dataset):\n",
    "    def __init__(self, data, targets, transform=None):\n",
    "        \"\"\"\n",
    "        Args:\n",
    "            data (Tensor): A tensor containing the data e.g. images\n",
    "            targets (Tensor): A tensor containing all the labels\n",
    "            transform (callable, optional): Optional transform to be applied\n",
    "                on a sample.\n",
    "        \"\"\"\n",
    "        self.data = data\n",
    "        self.targets = targets\n",
    "        self.transform = transform\n",
    "\n",
    "    def __len__(self):\n",
    "        return len(self.data)\n",
    "\n",
    "    def __getitem__(self, idx):\n",
    "        sample, label = self.data[idx], self.targets[idx]\n",
    "        sample = sample.view(1, 28, 28).float()/255.\n",
    "        if self.transform:\n",
    "            sample = self.transform(sample)\n",
    "\n",
    "        return sample, label"
   ]
  },
  {
   "cell_type": "markdown",
   "metadata": {
    "id": "E77N_2_sIf7F"
   },
   "source": [
    "### Transforms\n",
    "\n",
    "Transforms can be used to perform manipulation of individual data prior to passing the data to our models.\n",
    "This is useful for:\n",
    " - Data-augmentation i.e. creating slightly modified instance of the data we have while preserving their labels.\n",
    " - Data Preprocessing: Such as Normalization, Histogram Equalization\n",
    " - Transforming Targets: You may have complex labels that should change together with changes in the preprocessing of the images\n",
    "\n",
    " Pytorch and especially torchvision provides a [number of transforms](https://pytorch.org/docs/stable/torchvision/index.html) for you to use!\n",
    " A nice tutorial on custom dataloaders and transforms can be found [here](https://github.com/utkuozbulak/pytorch-custom-dataset-examples).\n",
    "\n",
    " The (probably) most state-of-the-art library for image augmentation is [albumentations](https://github.com/albu/albumentations) which has been successfully applied in winning kaggle competitions.\n"
   ]
  },
  {
   "cell_type": "code",
   "execution_count": null,
   "metadata": {
    "id": "EquGHuKiIf7G"
   },
   "outputs": [],
   "source": [
    "from torchvision.transforms import Compose, ToTensor, Normalize, RandomRotation, ToPILImage\n",
    "\n",
    "\n",
    "#Often we will want to apply more transformations at training time than test time, therefore here we have two different ones\n",
    "train_transform = Compose([\n",
    "    ToPILImage(),\n",
    "    ### add a random rotation of 10 degrees here\n",
    "    ToTensor(),\n",
    "    Normalize(mean=[0.1307], std=[0.3081]),\n",
    "]) ## Compose different transforms together. PIL is Python Imaging Library useful for opening, manipulating, and saving many different image file formats.\n",
    "\n",
    "#In Validation and Test Mode we only want to normalize our images, because they are already tensors\n",
    "validation_test_transform = Compose([ ### if you think it is adequate, add a random rotation here as well\n",
    "    Normalize(mean=[0.1307], std=[0.3081])\n",
    "])"
   ]
  },
  {
   "cell_type": "markdown",
   "metadata": {
    "id": "Yo_-JHavIf7G"
   },
   "source": [
    "### `code along` Training with data augmentation\n",
    "\n",
    "- Instantiate a ```CustomImageTensorDataset``` with data from the MNIST dataset\n",
    "- Provide the training and validation and testing datasets with the right transforms\n",
    "- Train LeNet-5 with data-augmentation on a validation set, then train on the full training set and report accuracies. Did you improve the model?\n",
    "\n",
    "\n",
    "\n",
    "\n",
    "\n",
    "\n",
    "#### Create the ```CustomImageTensorDataset```:"
   ]
  },
  {
   "cell_type": "code",
   "execution_count": null,
   "metadata": {
    "id": "Wh2m9wJyIf7H"
   },
   "outputs": [],
   "source": [
    "mnist_train = MNIST(\"./\", download=True, train=True)   # download mnist\n",
    "X_train, y_train = mnist_train.data[indices[0]], mnist_train.targets[indices[0]]    # split in train and validation\n",
    "X_val, y_val = mnist_train.data[indices[1]], mnist_train.targets[indices[1]]\n",
    "\n",
    "custom_mnist_train = CustomImageTensorDataset(X_train, y_train, transform=train_transform)     # create train custom dataset\n",
    "mnist_validation = CustomImageTensorDataset(X_val, y_val, transform=validation_test_transform) # create validation custom dataset\n",
    "mnist_test = CustomImageTensorDataset(X_test, y_test, transform=validation_test_transform)     # create test custom dataset\n",
    "\n",
    "print(custom_mnist_train.__len__())\n",
    "print(mnist_validation.__len__())\n",
    "print(mnist_test.__len__())"
   ]
  },
  {
   "cell_type": "markdown",
   "metadata": {
    "id": "E0y9iJl_If7H"
   },
   "source": [
    "### Training LeNet5 with data augmentation"
   ]
  },
  {
   "cell_type": "code",
   "execution_count": null,
   "metadata": {
    "id": "lRwa3fpoc67f"
   },
   "outputs": [],
   "source": [
    "class LeNet5(nn.Module):\n",
    "  def __init__(self):\n",
    "    super(LeNet5, self).__init__()\n",
    "    self.c1 = nn.Conv2d(1, 6, kernel_size=5, stride=1, padding=2) # define a 2D convolutional layer\n",
    "    self.s2 = nn.MaxPool2d(kernel_size=2, stride=2)               # define a maxpool layer\n",
    "    self.c3 = nn.Conv2d(6, 16, kernel_size=5, stride=1)           # new 2D convolutional layer\n",
    "    self.s4 = nn.MaxPool2d(kernel_size=2, stride=2)               # another maxpool layer\n",
    "    self.c5 = nn.Linear(16*5*5, 120)                              # first linear layer\n",
    "    self.f6 = nn.Linear(120, 84)                                  # second linear layer\n",
    "    self.output = nn.Linear(84, 10)                               # final output layer\n",
    "    self.act = nn.ReLU()                                          # activation function\n",
    "\n",
    "  def forward(self, x):\n",
    "    x = self.act(self.c1(x))                                      # activate pass through the first layer\n",
    "    x = self.act(self.s2(x))                                      # activate pass through the second layer\n",
    "    x = self.act(self.c3(x))                                      # activate pass through the third layer\n",
    "    x = self.act(self.s4(x))                                      # activate pass through the fourth layer\n",
    "    x = x.view(-1, x.size(1)*x.size(2)*x.size(3))                 # flatten (return a \"flattened\" view of the 3d tensor as inputs for the fully connected layer)\n",
    "    x = self.act(self.c5(x))                                      # activate pass through fifth layer\n",
    "    x = self.act(self.f6(x))                                      # activate pass through last layer\n",
    "    return self.output(x)                                         # return output\n",
    "\n",
    "x = torch.randn((1, 1, 28, 28))\n",
    "model = LeNet5()\n",
    "y = model(x)\n",
    "print(y)\n",
    "print(model)"
   ]
  },
  {
   "cell_type": "code",
   "execution_count": null,
   "metadata": {
    "id": "w2YjquZWIf7H"
   },
   "outputs": [],
   "source": [
    "def train_model_augmented(train_dataset, validation_dataset, momentum=0.5):\n",
    "  set_seed(seed)\n",
    "  model = LeNet5().to(device)\n",
    "  optimizer = torch.optim.SGD(model.parameters(), lr=lr, momentum=momentum)\n",
    "  criterion = nn.CrossEntropyLoss()\n",
    "\n",
    "  train_loader = DataLoader(train_dataset, batch_size=batch_size, shuffle=True, num_workers=0)\n",
    "  validation_loader = DataLoader(validation_dataset, batch_size=test_batch_size, shuffle=False, num_workers=0)\n",
    "\n",
    "  liveloss = PlotLosses()\n",
    "  for epoch in range(30):\n",
    "      logs = {}\n",
    "      train_loss, train_accuracy = train(model, optimizer, criterion, train_loader)\n",
    "\n",
    "      logs['' + 'log loss'] = train_loss.item()\n",
    "      logs['' + 'accuracy'] = train_accuracy.item()\n",
    "\n",
    "      validation_loss, validation_accuracy = validate(model, criterion, validation_loader)\n",
    "      logs['val_' + 'log loss'] = validation_loss.item()\n",
    "      logs['val_' + 'accuracy'] = validation_accuracy.item()\n",
    "\n",
    "      liveloss.update(logs)\n",
    "      liveloss.draw()\n",
    "\n",
    "  return model\n",
    "\n",
    "model = train_model_augmented(custom_mnist_train, mnist_validation)"
   ]
  },
  {
   "cell_type": "code",
   "execution_count": null,
   "metadata": {
    "id": "v4mqrRRnh68w"
   },
   "outputs": [],
   "source": [
    "validation_loader = DataLoader(mnist_validate, batch_size=test_batch_size, shuffle=False, num_workers=0) # create a validation_loader\n",
    "y_pred, y_gt = evaluate(model, validation_loader) # generate predictions and ground truths by evaluating the model"
   ]
  },
  {
   "cell_type": "code",
   "execution_count": null,
   "metadata": {
    "id": "101_0Wvph68w"
   },
   "outputs": [],
   "source": [
    "from sklearn.metrics import ConfusionMatrixDisplay\n",
    "\n",
    "fig, ax = plt.subplots(figsize=(6,6))\n",
    "ConfusionMatrixDisplay.from_predictions(y_gt, y_pred, ax=ax, colorbar=False, cmap='bone_r')\n",
    "plt.show()"
   ]
  },
  {
   "cell_type": "markdown",
   "metadata": {
    "id": "NHXp9ATcIf7I"
   },
   "source": [
    "### Alternative implementation of the transforms\n",
    "\n",
    "We can also define transforms directly when we get MNIST from [`torchvision.datasets.MNIST`](https://pytorch.org/vision/stable/datasets.html#mnist)\n",
    "\n"
   ]
  },
  {
   "cell_type": "code",
   "execution_count": null,
   "metadata": {
    "id": "ddkqUKHoIf7I"
   },
   "outputs": [],
   "source": [
    "pretransform_mnist_train = MNIST(\"./\", download=True, train=True, transform=Compose([\n",
    "    ### add your transforms here\n",
    "\n",
    "]))\n",
    "\n",
    "model = train_model_augmented(pretransform_mnist_train, mnist_validation)"
   ]
  },
  {
   "cell_type": "code",
   "execution_count": null,
   "metadata": {
    "id": "uCOtWiojiEJn"
   },
   "outputs": [],
   "source": [
    "validation_loader = DataLoader(mnist_validate, batch_size=test_batch_size, shuffle=False, num_workers=0) # create a validation_loader\n",
    "y_pred, y_gt = evaluate(model, validation_loader) # generate predictions and ground truths by evaluating the model"
   ]
  },
  {
   "cell_type": "code",
   "execution_count": null,
   "metadata": {
    "id": "j5f242yWiEJo"
   },
   "outputs": [],
   "source": [
    "from sklearn.metrics import ConfusionMatrixDisplay\n",
    "\n",
    "fig, ax = plt.subplots(figsize=(6,6))\n",
    "ConfusionMatrixDisplay.from_predictions(y_gt, y_pred, ax=ax, colorbar=False, cmap='bone_r')\n",
    "plt.show()"
   ]
  },
  {
   "cell_type": "markdown",
   "metadata": {
    "id": "edbEiroVigoT"
   },
   "source": [
    "reference result from this morning plain Lenet-5 implementation for reference:\n",
    "\n",
    "<img src=\"https://drive.google.com/uc?id=1Q9dWZOCYKE_-looC8455K5hxEokZ7i5B\" width=\"600\"/>"
   ]
  }
 ],
 "metadata": {
  "colab": {
   "authorship_tag": "ABX9TyMIDuw+IPez2WSVYOryvUXD",
   "provenance": []
  },
  "gpuClass": "standard",
  "kernelspec": {
   "display_name": "Python 3",
   "language": "python",
   "name": "python3"
  },
  "language_info": {
   "codemirror_mode": {
    "name": "ipython",
    "version": 3
   },
   "file_extension": ".py",
   "mimetype": "text/x-python",
   "name": "python",
   "nbconvert_exporter": "python",
   "pygments_lexer": "ipython3",
   "version": "3.8.8"
  }
 },
 "nbformat": 4,
 "nbformat_minor": 1
}
